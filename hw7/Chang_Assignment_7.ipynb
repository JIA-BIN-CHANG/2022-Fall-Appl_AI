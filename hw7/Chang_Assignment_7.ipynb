{
  "cells": [
    {
      "cell_type": "markdown",
      "metadata": {
        "id": "H75elAV04YeP"
      },
      "source": [
        "# [Assignment 7] Logistic Regression vs KNN\n",
        "\n",
        "In this assingment you will work on classification of a glass dataset that is available through Kaggle:\n",
        "\n",
        "https://www.kaggle.com/datasets/uciml/glass"
      ]
    },
    {
      "cell_type": "markdown",
      "metadata": {
        "id": "4Ly32BfTOpCq"
      },
      "source": [
        "## Step 0: Import Modules"
      ]
    },
    {
      "cell_type": "code",
      "execution_count": 1,
      "metadata": {
        "id": "H4LCuDe27Nw9"
      },
      "outputs": [],
      "source": [
        "import numpy as np\n",
        "import pandas as pd\n",
        "import matplotlib.pyplot as plt"
      ]
    },
    {
      "cell_type": "markdown",
      "metadata": {
        "id": "c9F9yEB-4bvf"
      },
      "source": [
        "## Step 1: Load Data\n",
        "\n",
        "Run the following command will download the **glass.csv** to your colab and then load it to a DataFrame"
      ]
    },
    {
      "cell_type": "code",
      "execution_count": 2,
      "metadata": {
        "colab": {
          "base_uri": "https://localhost:8080/"
        },
        "id": "rwY3BPPK4jz2",
        "outputId": "73266292-b667-4dd3-9255-8a4e25d38c22"
      },
      "outputs": [],
      "source": [
        "# !gdown 1IijSItKzryxCz_2PWn6g316KEU7rkIfZ\n",
        "data=pd.read_csv('glass.csv')"
      ]
    },
    {
      "cell_type": "code",
      "execution_count": 3,
      "metadata": {
        "colab": {
          "base_uri": "https://localhost:8080/",
          "height": 206
        },
        "id": "lhsrkJkE5DCP",
        "outputId": "e90f3739-b676-416a-ed50-0404c92a9b97"
      },
      "outputs": [
        {
          "data": {
            "text/html": [
              "<div>\n",
              "<style scoped>\n",
              "    .dataframe tbody tr th:only-of-type {\n",
              "        vertical-align: middle;\n",
              "    }\n",
              "\n",
              "    .dataframe tbody tr th {\n",
              "        vertical-align: top;\n",
              "    }\n",
              "\n",
              "    .dataframe thead th {\n",
              "        text-align: right;\n",
              "    }\n",
              "</style>\n",
              "<table border=\"1\" class=\"dataframe\">\n",
              "  <thead>\n",
              "    <tr style=\"text-align: right;\">\n",
              "      <th></th>\n",
              "      <th>RI</th>\n",
              "      <th>Na</th>\n",
              "      <th>Mg</th>\n",
              "      <th>Al</th>\n",
              "      <th>Si</th>\n",
              "      <th>K</th>\n",
              "      <th>Ca</th>\n",
              "      <th>Ba</th>\n",
              "      <th>Fe</th>\n",
              "      <th>Type</th>\n",
              "    </tr>\n",
              "  </thead>\n",
              "  <tbody>\n",
              "    <tr>\n",
              "      <th>0</th>\n",
              "      <td>1.52101</td>\n",
              "      <td>13.64</td>\n",
              "      <td>4.49</td>\n",
              "      <td>1.10</td>\n",
              "      <td>71.78</td>\n",
              "      <td>0.06</td>\n",
              "      <td>8.75</td>\n",
              "      <td>0.0</td>\n",
              "      <td>0.0</td>\n",
              "      <td>1</td>\n",
              "    </tr>\n",
              "    <tr>\n",
              "      <th>1</th>\n",
              "      <td>1.51761</td>\n",
              "      <td>13.89</td>\n",
              "      <td>3.60</td>\n",
              "      <td>1.36</td>\n",
              "      <td>72.73</td>\n",
              "      <td>0.48</td>\n",
              "      <td>7.83</td>\n",
              "      <td>0.0</td>\n",
              "      <td>0.0</td>\n",
              "      <td>1</td>\n",
              "    </tr>\n",
              "    <tr>\n",
              "      <th>2</th>\n",
              "      <td>1.51618</td>\n",
              "      <td>13.53</td>\n",
              "      <td>3.55</td>\n",
              "      <td>1.54</td>\n",
              "      <td>72.99</td>\n",
              "      <td>0.39</td>\n",
              "      <td>7.78</td>\n",
              "      <td>0.0</td>\n",
              "      <td>0.0</td>\n",
              "      <td>1</td>\n",
              "    </tr>\n",
              "    <tr>\n",
              "      <th>3</th>\n",
              "      <td>1.51766</td>\n",
              "      <td>13.21</td>\n",
              "      <td>3.69</td>\n",
              "      <td>1.29</td>\n",
              "      <td>72.61</td>\n",
              "      <td>0.57</td>\n",
              "      <td>8.22</td>\n",
              "      <td>0.0</td>\n",
              "      <td>0.0</td>\n",
              "      <td>1</td>\n",
              "    </tr>\n",
              "    <tr>\n",
              "      <th>4</th>\n",
              "      <td>1.51742</td>\n",
              "      <td>13.27</td>\n",
              "      <td>3.62</td>\n",
              "      <td>1.24</td>\n",
              "      <td>73.08</td>\n",
              "      <td>0.55</td>\n",
              "      <td>8.07</td>\n",
              "      <td>0.0</td>\n",
              "      <td>0.0</td>\n",
              "      <td>1</td>\n",
              "    </tr>\n",
              "  </tbody>\n",
              "</table>\n",
              "</div>"
            ],
            "text/plain": [
              "        RI     Na    Mg    Al     Si     K    Ca   Ba   Fe  Type\n",
              "0  1.52101  13.64  4.49  1.10  71.78  0.06  8.75  0.0  0.0     1\n",
              "1  1.51761  13.89  3.60  1.36  72.73  0.48  7.83  0.0  0.0     1\n",
              "2  1.51618  13.53  3.55  1.54  72.99  0.39  7.78  0.0  0.0     1\n",
              "3  1.51766  13.21  3.69  1.29  72.61  0.57  8.22  0.0  0.0     1\n",
              "4  1.51742  13.27  3.62  1.24  73.08  0.55  8.07  0.0  0.0     1"
            ]
          },
          "execution_count": 3,
          "metadata": {},
          "output_type": "execute_result"
        }
      ],
      "source": [
        "data.head()"
      ]
    },
    {
      "cell_type": "markdown",
      "metadata": {
        "id": "9QE3Yf-G7hTy"
      },
      "source": [
        "## Step 2: Defining the problem \n",
        "\n",
        "Using this Dataset, we would like to solve a multi class classification problem:\n",
        "\n",
        "*   **Type** Column is the label \n",
        "*   And the rest of columns are features\n",
        "\n",
        "Therefore, we would like to train a model which takes the features and predict Type!"
      ]
    },
    {
      "cell_type": "markdown",
      "metadata": {
        "id": "laL2vseAooHy"
      },
      "source": [
        "## Step 3: Data Encoding\n",
        "\n",
        "Data Encoding is not needed because all columns are numberical as shown in the result of **data.info()**"
      ]
    },
    {
      "cell_type": "code",
      "execution_count": 4,
      "metadata": {
        "colab": {
          "base_uri": "https://localhost:8080/"
        },
        "id": "DliciuBwGeDC",
        "outputId": "649fd506-22b2-4192-d511-efa6d60b68fb"
      },
      "outputs": [
        {
          "name": "stdout",
          "output_type": "stream",
          "text": [
            "<class 'pandas.core.frame.DataFrame'>\n",
            "RangeIndex: 214 entries, 0 to 213\n",
            "Data columns (total 10 columns):\n",
            " #   Column  Non-Null Count  Dtype  \n",
            "---  ------  --------------  -----  \n",
            " 0   RI      214 non-null    float64\n",
            " 1   Na      214 non-null    float64\n",
            " 2   Mg      214 non-null    float64\n",
            " 3   Al      214 non-null    float64\n",
            " 4   Si      214 non-null    float64\n",
            " 5   K       214 non-null    float64\n",
            " 6   Ca      214 non-null    float64\n",
            " 7   Ba      214 non-null    float64\n",
            " 8   Fe      214 non-null    float64\n",
            " 9   Type    214 non-null    int64  \n",
            "dtypes: float64(9), int64(1)\n",
            "memory usage: 16.8 KB\n"
          ]
        }
      ],
      "source": [
        "data.info()"
      ]
    },
    {
      "cell_type": "markdown",
      "metadata": {
        "id": "dR0zHb7_sFVv"
      },
      "source": [
        "## Step 4: Label Analysis\n",
        "\n",
        "Run the following command to see the values in the label column. As you can see there are **7 classes numbered from 1 to 7**\n",
        "\n",
        "*   Looking at the histogram you see that the data is **unbalanced** and different classes have diffenre number of records. \n",
        "*   **Class 4 does not have any records**; we dont have any record in data that its type is 4. We double check this by running `data[data['Type']==4]` and getting no records."
      ]
    },
    {
      "cell_type": "code",
      "execution_count": 5,
      "metadata": {
        "colab": {
          "base_uri": "https://localhost:8080/"
        },
        "id": "eHUUoKZoX1mM",
        "outputId": "bb422f92-4934-4dda-e793-353ea9cfbf69"
      },
      "outputs": [
        {
          "data": {
            "text/plain": [
              "0      1\n",
              "1      1\n",
              "2      1\n",
              "3      1\n",
              "4      1\n",
              "      ..\n",
              "209    7\n",
              "210    7\n",
              "211    7\n",
              "212    7\n",
              "213    7\n",
              "Name: Type, Length: 214, dtype: int64"
            ]
          },
          "execution_count": 5,
          "metadata": {},
          "output_type": "execute_result"
        }
      ],
      "source": [
        "data['Type']"
      ]
    },
    {
      "cell_type": "code",
      "execution_count": 6,
      "metadata": {
        "colab": {
          "base_uri": "https://localhost:8080/",
          "height": 282
        },
        "id": "1TfsXeJYYuKf",
        "outputId": "8de4c788-9974-4347-9c25-315d9cd36fbf"
      },
      "outputs": [
        {
          "data": {
            "text/plain": [
              "<AxesSubplot: >"
            ]
          },
          "execution_count": 6,
          "metadata": {},
          "output_type": "execute_result"
        },
        {
          "data": {
            "image/png": "[encoded data removed]",
            "text/plain": [
              "<Figure size 640x480 with 1 Axes>"
            ]
          },
          "metadata": {},
          "output_type": "display_data"
        }
      ],
      "source": [
        "data['Type'].hist(bins=[0.5,1.5,2.5,3.5,4.5,5.5,6.5,7.5])"
      ]
    },
    {
      "cell_type": "code",
      "execution_count": 7,
      "metadata": {
        "colab": {
          "base_uri": "https://localhost:8080/",
          "height": 49
        },
        "id": "nmd_WvTKZP0-",
        "outputId": "f0a02eca-4bd2-4b2a-9fbf-64ba8a1d02d7"
      },
      "outputs": [
        {
          "data": {
            "text/html": [
              "<div>\n",
              "<style scoped>\n",
              "    .dataframe tbody tr th:only-of-type {\n",
              "        vertical-align: middle;\n",
              "    }\n",
              "\n",
              "    .dataframe tbody tr th {\n",
              "        vertical-align: top;\n",
              "    }\n",
              "\n",
              "    .dataframe thead th {\n",
              "        text-align: right;\n",
              "    }\n",
              "</style>\n",
              "<table border=\"1\" class=\"dataframe\">\n",
              "  <thead>\n",
              "    <tr style=\"text-align: right;\">\n",
              "      <th></th>\n",
              "      <th>RI</th>\n",
              "      <th>Na</th>\n",
              "      <th>Mg</th>\n",
              "      <th>Al</th>\n",
              "      <th>Si</th>\n",
              "      <th>K</th>\n",
              "      <th>Ca</th>\n",
              "      <th>Ba</th>\n",
              "      <th>Fe</th>\n",
              "      <th>Type</th>\n",
              "    </tr>\n",
              "  </thead>\n",
              "  <tbody>\n",
              "  </tbody>\n",
              "</table>\n",
              "</div>"
            ],
            "text/plain": [
              "Empty DataFrame\n",
              "Columns: [RI, Na, Mg, Al, Si, K, Ca, Ba, Fe, Type]\n",
              "Index: []"
            ]
          },
          "execution_count": 7,
          "metadata": {},
          "output_type": "execute_result"
        }
      ],
      "source": [
        "data[data['Type']==4]"
      ]
    },
    {
      "cell_type": "markdown",
      "metadata": {
        "id": "kc8-XVJYary2"
      },
      "source": [
        "## Step 5: Normalize Data [2 points]\n",
        "\n",
        "Use  `StandardScaler` from Scikit-learn and normalize all the features **except** the label.\n",
        "\n",
        "Your normalized features should be save in a DataFrame called `data_n_df` and all column names should be **presearved**.\n"
      ]
    },
    {
      "cell_type": "code",
      "execution_count": 8,
      "metadata": {
        "id": "EKzJx1zWbJSw"
      },
      "outputs": [],
      "source": [
        "from sklearn.preprocessing import StandardScaler\n",
        "### BEGIN SOLUTION\n",
        "\n",
        "scaler = StandardScaler()\n",
        "scaler.fit(data.drop(columns='Type'))\n",
        "data_scaled = scaler.transform(data.drop(columns='Type'))\n",
        "data_n_df=pd.DataFrame(data=data_scaled)\n",
        "data_n_df.columns = ['RI', 'Na', 'Mg', 'Al', 'Si', 'K', 'Ca', 'Ba',\t'Fe']\n",
        "### END SOLUTION"
      ]
    },
    {
      "cell_type": "code",
      "execution_count": 9,
      "metadata": {
        "colab": {
          "base_uri": "https://localhost:8080/"
        },
        "id": "R7HYib5obPpB",
        "outputId": "0a7cea92-b6c1-47c5-a0c6-fa8b3af7cc08"
      },
      "outputs": [
        {
          "data": {
            "text/plain": [
              "True"
            ]
          },
          "execution_count": 9,
          "metadata": {},
          "output_type": "execute_result"
        }
      ],
      "source": [
        "#if you did the normalization correct, the follwoing command should print True\n",
        "round(data_n_df['RI'].mean())+round(data_n_df['K'].mean())==0"
      ]
    },
    {
      "cell_type": "markdown",
      "metadata": {
        "id": "uSuEu7yCbjnv"
      },
      "source": [
        "## Step 6: Let's review the correlation among features\n",
        "\n",
        "Just run the block of code! Dont drop any features even if you see high correlation."
      ]
    },
    {
      "cell_type": "code",
      "execution_count": 10,
      "metadata": {
        "colab": {
          "base_uri": "https://localhost:8080/",
          "height": 576
        },
        "id": "PhIPLC0svo27",
        "outputId": "c7532244-4e3a-45ca-9032-a9c3abe5a258"
      },
      "outputs": [
        {
          "name": "stderr",
          "output_type": "stream",
          "text": [
            "/var/folders/4k/t40pq35106x74tksg9mtcwj00000gn/T/ipykernel_7750/2739963929.py:6: DeprecationWarning: `np.bool` is a deprecated alias for the builtin `bool`. To silence this warning, use `bool` by itself. Doing this will not modify any behavior and is safe. If you specifically wanted the numpy scalar type, use `np.bool_` here.\n",
            "Deprecated in NumPy 1.20; for more details and guidance: https://numpy.org/devdocs/release/1.20.0-notes.html#deprecations\n",
            "  sns.heatmap(corr, mask=np.zeros_like(corr, dtype=np.bool), cmap=sns.diverging_palette(220, 10, as_cmap=True),\n"
          ]
        },
        {
          "data": {
            "text/plain": [
              "<AxesSubplot: >"
            ]
          },
          "execution_count": 10,
          "metadata": {},
          "output_type": "execute_result"
        },
        {
          "data": {
            "image/png": "[encoded data removed]",
            "text/plain": [
              "<Figure size 1000x800 with 2 Axes>"
            ]
          },
          "metadata": {},
          "output_type": "display_data"
        }
      ],
      "source": [
        "import seaborn as sns\n",
        "corr=abs(data_n_df.corr())\n",
        "\n",
        "\n",
        "f, ax = plt.subplots(figsize=(10, 8))\n",
        "sns.heatmap(corr, mask=np.zeros_like(corr, dtype=np.bool), cmap=sns.diverging_palette(220, 10, as_cmap=True),\n",
        "            square=True, ax=ax)"
      ]
    },
    {
      "cell_type": "markdown",
      "metadata": {
        "id": "NV5WQh19s1Os"
      },
      "source": [
        "## Step 7: Data Split [2 points]\n",
        "\n",
        "Use  `train_test_split` from Scikit-learn and split the Features and Label(Y) to **70%** training subset and **30%** test subset. Use the variable names as shown below. \n",
        "\n",
        "<font color=red>You **must** use `random_state=10` to get the result needed.</font>"
      ]
    },
    {
      "cell_type": "code",
      "execution_count": 11,
      "metadata": {
        "id": "4hQQSBEqdOHG"
      },
      "outputs": [],
      "source": [
        "from sklearn.model_selection import train_test_split\n",
        "### BEGIN SOLUTION\n",
        "\n",
        "\n",
        "\n",
        "X_train, X_test, Y_train, Y_test = train_test_split(data_n_df, data['Type'], random_state=10, train_size=0.7)\n",
        "\n",
        "### END SOLUTION"
      ]
    },
    {
      "cell_type": "code",
      "execution_count": 12,
      "metadata": {
        "colab": {
          "base_uri": "https://localhost:8080/",
          "height": 282
        },
        "id": "a12NZb-3xbqQ",
        "outputId": "9974ac3c-fbfa-4cd6-b920-951deae2339d"
      },
      "outputs": [
        {
          "data": {
            "text/plain": [
              "<AxesSubplot: >"
            ]
          },
          "execution_count": 12,
          "metadata": {},
          "output_type": "execute_result"
        },
        {
          "data": {
            "image/png": "[encoded data removed]",
            "text/plain": [
              "<Figure size 640x480 with 1 Axes>"
            ]
          },
          "metadata": {},
          "output_type": "display_data"
        }
      ],
      "source": [
        "#Review the following histograms and see how data is split.\n",
        "Y_train.hist(bins=[0.5,1.5,2.5,3.5,4.5,5.5,6.5,7.5])\n",
        "Y_test.hist(bins=[0.5,1.5,2.5,3.5,4.5,5.5,6.5,7.5])"
      ]
    },
    {
      "cell_type": "markdown",
      "metadata": {
        "id": "ErtoscOdXm2a"
      },
      "source": [
        "## Step 8: KNN [4 points]\n",
        "\n",
        "Train KNN for K=2,3,4,5\n",
        "\n",
        "*   Store the accuracy of the 4 models in a list named `accuracy_list`  \n",
        "*   Store the f1-score of the 4 models in a list named `f1_score_list`\n",
        "\n",
        "When your code finishes, Each list should have 4 numbers in this order: the first number for the 2NN Model, the second number is for the 3NN Model,..."
      ]
    },
    {
      "cell_type": "code",
      "execution_count": 13,
      "metadata": {
        "id": "caYecHbHe0bJ"
      },
      "outputs": [
        {
          "name": "stdout",
          "output_type": "stream",
          "text": [
            "[0.5384615384615384, 0.5076923076923077, 0.5384615384615384, 0.5230769230769231] [0.4957185864068455, 0.48461538461538456, 0.5156885667523966, 0.50416884702599]\n"
          ]
        }
      ],
      "source": [
        "from numpy import average\n",
        "from sklearn.neighbors import KNeighborsClassifier\n",
        "from sklearn.metrics import accuracy_score,f1_score\n",
        "### BEGIN SOLUTION\n",
        "\n",
        "accuracy_list = []\n",
        "f1_score_list = []\n",
        "\n",
        "for k in range(2,6):\n",
        "    modelKNN = KNeighborsClassifier(n_neighbors=k)\n",
        "    modelKNN.fit(X_train, Y_train)\n",
        "    Y_test_predicted_KNN = modelKNN.predict(X_test)\n",
        "    accuracy_list.append(accuracy_score(Y_test, Y_test_predicted_KNN))\n",
        "    f1_score_list.append(f1_score(Y_test, Y_test_predicted_KNN, average='weighted'))\n",
        "\n",
        "print (accuracy_list, f1_score_list)\n",
        "### END SOLUTION"
      ]
    },
    {
      "cell_type": "markdown",
      "metadata": {
        "id": "ZXm48A2xgufN"
      },
      "source": [
        "Based on the plot, we can decide what to use for K in KNeighborsClassifier."
      ]
    },
    {
      "cell_type": "code",
      "execution_count": 14,
      "metadata": {
        "colab": {
          "base_uri": "https://localhost:8080/",
          "height": 312
        },
        "id": "LNrja35ok_VU",
        "outputId": "7a4613b8-8c65-4e3e-b2fc-a1f8b4fbddc8"
      },
      "outputs": [
        {
          "data": {
            "text/plain": [
              "Text(0.5, 1.0, 'Evaluation metrics vs. K')"
            ]
          },
          "execution_count": 14,
          "metadata": {},
          "output_type": "execute_result"
        },
        {
          "data": {
            "image/png": "[encoded data removed]",
            "text/plain": [
              "<Figure size 640x480 with 1 Axes>"
            ]
          },
          "metadata": {},
          "output_type": "display_data"
        }
      ],
      "source": [
        "#If you wrote the code correctly, running the following code, should create a plot of accuracy and f1-score of different models compared agains each other.\n",
        "import matplotlib.pyplot as plt\n",
        "plt.scatter(range(2,6),f1_score_list,label='F1_Score',color='blue')\n",
        "plt.scatter(range(2,6),accuracy_list,label='Accuracy',color='red')\n",
        "plt.xlabel('K')\n",
        "plt.legend()\n",
        "plt.title('Evaluation metrics vs. K')"
      ]
    },
    {
      "cell_type": "markdown",
      "metadata": {
        "id": "VMxOMUaPhF8d"
      },
      "source": [
        "##Step 9: KNN- Best [1 point]\n",
        "\n",
        "Useing the graph in the previous step, decide on the best K and train the model using the selected K and store test data predictions in a variable named `Y_testing_predicted` "
      ]
    },
    {
      "cell_type": "code",
      "execution_count": 24,
      "metadata": {
        "id": "RVaSyLzxhMUI"
      },
      "outputs": [],
      "source": [
        "from sklearn.neighbors import KNeighborsClassifier\n",
        "### BEGIN SOLUTION\n",
        "\n",
        "\n",
        "\n",
        "model = KNeighborsClassifier(n_neighbors=4)\n",
        "model.fit(X_train, Y_train)\n",
        "Y_testing_predicted=model.predict(X_test)\n",
        "### END SOLUTION"
      ]
    },
    {
      "cell_type": "code",
      "execution_count": 25,
      "metadata": {
        "colab": {
          "base_uri": "https://localhost:8080/",
          "height": 351
        },
        "id": "J6RJKT-DXtZ2",
        "outputId": "bda3dbe3-4b82-41d8-a611-373d286f3639"
      },
      "outputs": [
        {
          "name": "stderr",
          "output_type": "stream",
          "text": [
            "/Users/jbchang/Library/Python/3.9/lib/python/site-packages/sklearn/utils/deprecation.py:87: FutureWarning: Function plot_confusion_matrix is deprecated; Function `plot_confusion_matrix` is deprecated in 1.0 and will be removed in 1.2. Use one of the class methods: ConfusionMatrixDisplay.from_predictions or ConfusionMatrixDisplay.from_estimator.\n",
            "  warnings.warn(msg, category=FutureWarning)\n"
          ]
        },
        {
          "data": {
            "text/plain": [
              "<sklearn.metrics._plot.confusion_matrix.ConfusionMatrixDisplay at 0x13777fd30>"
            ]
          },
          "execution_count": 25,
          "metadata": {},
          "output_type": "execute_result"
        },
        {
          "data": {
            "image/png": "[encoded data removed]",
            "text/plain": [
              "<Figure size 640x480 with 2 Axes>"
            ]
          },
          "metadata": {},
          "output_type": "display_data"
        }
      ],
      "source": [
        "#Run the following commands to get the Confusion matrix\n",
        "from sklearn.metrics import plot_confusion_matrix\n",
        "plot_confusion_matrix(model,X_test,Y_test)"
      ]
    },
    {
      "cell_type": "markdown",
      "metadata": {
        "id": "d6fuNDa9atFb"
      },
      "source": [
        "## Step 9: Logistic Regression - Grid Search [3 points]\n",
        "\n",
        "Train Logistic Regression for all the combination of param_cases given below using GridSearchCV"
      ]
    },
    {
      "cell_type": "code",
      "execution_count": 17,
      "metadata": {
        "id": "hRB13cJg3eWY"
      },
      "outputs": [],
      "source": [
        "param_cases={\n",
        "    'class_weight':['balanced'],\n",
        "    'solver' : ['newton-cg', 'lbfgs', 'liblinear', 'sag', 'saga'],\n",
        "    'max_iter' : [25, 50]\n",
        "}"
      ]
    },
    {
      "cell_type": "code",
      "execution_count": 18,
      "metadata": {
        "colab": {
          "base_uri": "https://localhost:8080/"
        },
        "id": "8i_NQsml4dTS",
        "outputId": "59f17063-0137-4674-d817-8226f640baf0"
      },
      "outputs": [
        {
          "name": "stdout",
          "output_type": "stream",
          "text": [
            "Fitting 5 folds for each of 10 candidates, totalling 50 fits\n",
            "[CV] END class_weight=balanced, max_iter=25, solver=newton-cg; total time=   0.0s\n",
            "[CV] END ...class_weight=balanced, max_iter=25, solver=lbfgs; total time=   0.0s\n",
            "[CV] END ...class_weight=balanced, max_iter=25, solver=lbfgs; total time=   0.0s\n",
            "[CV] END class_weight=balanced, max_iter=25, solver=liblinear; total time=   0.0s\n",
            "[CV] END class_weight=balanced, max_iter=25, solver=liblinear; total time=   0.0s\n",
            "[CV] END class_weight=balanced, max_iter=25, solver=liblinear; total time=   0.0s\n",
            "[CV] END class_weight=balanced, max_iter=25, solver=liblinear; total time=   0.0s\n",
            "[CV] END class_weight=balanced, max_iter=25, solver=liblinear; total time=   0.0s\n",
            "[CV] END .....class_weight=balanced, max_iter=25, solver=sag; total time=   0.0s\n",
            "[CV] END .....class_weight=balanced, max_iter=25, solver=sag; total time=   0.0s\n",
            "[CV] END .....class_weight=balanced, max_iter=25, solver=sag; total time=   0.0s\n",
            "[CV] END .....class_weight=balanced, max_iter=25, solver=sag; total time=   0.0s\n",
            "[CV] END .....class_weight=balanced, max_iter=25, solver=sag; total time=   0.0s\n",
            "[CV] END ....class_weight=balanced, max_iter=25, solver=saga; total time=   0.0s\n",
            "[CV] END ....class_weight=balanced, max_iter=25, solver=saga; total time=   0.0s\n",
            "[CV] END ....class_weight=balanced, max_iter=25, solver=saga; total time=   0.0s\n",
            "[CV] END ....class_weight=balanced, max_iter=25, solver=saga; total time=   0.0s\n",
            "[CV] END ....class_weight=balanced, max_iter=25, solver=saga; total time=   0.0s\n",
            "[CV] END class_weight=balanced, max_iter=25, solver=newton-cg; total time=   0.0s\n",
            "[CV] END class_weight=balanced, max_iter=50, solver=newton-cg; total time=   0.0s\n",
            "[CV] END class_weight=balanced, max_iter=25, solver=newton-cg; total time=   0.0s\n",
            "[CV] END class_weight=balanced, max_iter=50, solver=newton-cg; total time=   0.0s\n",
            "[CV] END class_weight=balanced, max_iter=50, solver=newton-cg; total time=   0.0s\n",
            "[CV] END class_weight=balanced, max_iter=50, solver=newton-cg; total time=   0.0s\n",
            "[CV] END ...class_weight=balanced, max_iter=50, solver=lbfgs; total time=   0.0s\n"
          ]
        },
        {
          "name": "stderr",
          "output_type": "stream",
          "text": [
            "/Users/jbchang/Library/Python/3.9/lib/python/site-packages/sklearn/linear_model/_logistic.py:444: ConvergenceWarning: lbfgs failed to converge (status=1):\n",
            "STOP: TOTAL NO. of ITERATIONS REACHED LIMIT.\n",
            "\n",
            "Increase the number of iterations (max_iter) or scale the data as shown in:\n",
            "    https://scikit-learn.org/stable/modules/preprocessing.html\n",
            "Please also refer to the documentation for alternative solver options:\n",
            "    https://scikit-learn.org/stable/modules/linear_model.html#logistic-regression\n",
            "  n_iter_i = _check_optimize_result(\n",
            "/Users/jbchang/Library/Python/3.9/lib/python/site-packages/sklearn/linear_model/_logistic.py:444: ConvergenceWarning: lbfgs failed to converge (status=1):\n",
            "STOP: TOTAL NO. of ITERATIONS REACHED LIMIT.\n",
            "\n",
            "Increase the number of iterations (max_iter) or scale the data as shown in:\n",
            "    https://scikit-learn.org/stable/modules/preprocessing.html\n",
            "Please also refer to the documentation for alternative solver options:\n",
            "    https://scikit-learn.org/stable/modules/linear_model.html#logistic-regression\n",
            "  n_iter_i = _check_optimize_result(\n",
            "/Users/jbchang/Library/Python/3.9/lib/python/site-packages/sklearn/linear_model/_sag.py:350: ConvergenceWarning: The max_iter was reached which means the coef_ did not converge\n",
            "  warnings.warn(\n",
            "/Users/jbchang/Library/Python/3.9/lib/python/site-packages/sklearn/linear_model/_sag.py:350: ConvergenceWarning: The max_iter was reached which means the coef_ did not converge\n",
            "  warnings.warn(\n",
            "/Users/jbchang/Library/Python/3.9/lib/python/site-packages/sklearn/linear_model/_sag.py:350: ConvergenceWarning: The max_iter was reached which means the coef_ did not converge\n",
            "  warnings.warn(\n",
            "/Users/jbchang/Library/Python/3.9/lib/python/site-packages/sklearn/linear_model/_sag.py:350: ConvergenceWarning: The max_iter was reached which means the coef_ did not converge\n",
            "  warnings.warn(\n",
            "/Users/jbchang/Library/Python/3.9/lib/python/site-packages/sklearn/linear_model/_sag.py:350: ConvergenceWarning: The max_iter was reached which means the coef_ did not converge\n",
            "  warnings.warn(\n",
            "/Users/jbchang/Library/Python/3.9/lib/python/site-packages/sklearn/linear_model/_sag.py:350: ConvergenceWarning: The max_iter was reached which means the coef_ did not converge\n",
            "  warnings.warn(\n",
            "/Users/jbchang/Library/Python/3.9/lib/python/site-packages/sklearn/linear_model/_sag.py:350: ConvergenceWarning: The max_iter was reached which means the coef_ did not converge\n",
            "  warnings.warn(\n",
            "/Users/jbchang/Library/Python/3.9/lib/python/site-packages/sklearn/linear_model/_sag.py:350: ConvergenceWarning: The max_iter was reached which means the coef_ did not converge\n",
            "  warnings.warn(\n",
            "/Users/jbchang/Library/Python/3.9/lib/python/site-packages/sklearn/linear_model/_sag.py:350: ConvergenceWarning: The max_iter was reached which means the coef_ did not converge\n",
            "  warnings.warn(\n",
            "/Users/jbchang/Library/Python/3.9/lib/python/site-packages/sklearn/linear_model/_sag.py:350: ConvergenceWarning: The max_iter was reached which means the coef_ did not converge\n",
            "  warnings.warn(\n",
            "/Users/jbchang/Library/Python/3.9/lib/python/site-packages/sklearn/linear_model/_sag.py:350: ConvergenceWarning: The max_iter was reached which means the coef_ did not converge\n",
            "  warnings.warn(\n",
            "/Users/jbchang/Library/Python/3.9/lib/python/site-packages/sklearn/linear_model/_sag.py:350: ConvergenceWarning: The max_iter was reached which means the coef_ did not converge\n",
            "  warnings.warn(\n",
            "/Users/jbchang/Library/Python/3.9/lib/python/site-packages/sklearn/linear_model/_sag.py:350: ConvergenceWarning: The max_iter was reached which means the coef_ did not converge\n",
            "  warnings.warn(\n",
            "/Users/jbchang/Library/Python/3.9/lib/python/site-packages/sklearn/linear_model/_sag.py:350: ConvergenceWarning: The max_iter was reached which means the coef_ did not converge\n",
            "  warnings.warn(\n",
            "/Users/jbchang/Library/Python/3.9/lib/python/site-packages/sklearn/linear_model/_sag.py:350: ConvergenceWarning: The max_iter was reached which means the coef_ did not converge\n",
            "  warnings.warn(\n",
            "/Users/jbchang/Library/Python/3.9/lib/python/site-packages/sklearn/linear_model/_sag.py:350: ConvergenceWarning: The max_iter was reached which means the coef_ did not converge\n",
            "  warnings.warn(\n",
            "/Users/jbchang/Library/Python/3.9/lib/python/site-packages/sklearn/linear_model/_sag.py:350: ConvergenceWarning: The max_iter was reached which means the coef_ did not converge\n",
            "  warnings.warn(\n",
            "/Users/jbchang/Library/Python/3.9/lib/python/site-packages/sklearn/linear_model/_logistic.py:444: ConvergenceWarning: lbfgs failed to converge (status=1):\n",
            "STOP: TOTAL NO. of ITERATIONS REACHED LIMIT.\n",
            "\n",
            "Increase the number of iterations (max_iter) or scale the data as shown in:\n",
            "    https://scikit-learn.org/stable/modules/preprocessing.html\n",
            "Please also refer to the documentation for alternative solver options:\n",
            "    https://scikit-learn.org/stable/modules/linear_model.html#logistic-regression\n",
            "  n_iter_i = _check_optimize_result(\n",
            "/Users/jbchang/Library/Python/3.9/lib/python/site-packages/sklearn/linear_model/_sag.py:350: ConvergenceWarning: The max_iter was reached which means the coef_ did not converge\n",
            "  warnings.warn(\n",
            "/Users/jbchang/Library/Python/3.9/lib/python/site-packages/sklearn/linear_model/_sag.py:350: ConvergenceWarning: The max_iter was reached which means the coef_ did not converge\n",
            "  warnings.warn(\n",
            "/Users/jbchang/Library/Python/3.9/lib/python/site-packages/sklearn/linear_model/_sag.py:350: ConvergenceWarning: The max_iter was reached which means the coef_ did not converge\n",
            "  warnings.warn(\n"
          ]
        },
        {
          "name": "stdout",
          "output_type": "stream",
          "text": [
            "[CV] END ...class_weight=balanced, max_iter=50, solver=lbfgs; total time=   0.0s\n",
            "[CV] END ...class_weight=balanced, max_iter=50, solver=lbfgs; total time=   0.0s\n",
            "[CV] END ...class_weight=balanced, max_iter=50, solver=lbfgs; total time=   0.0s\n",
            "[CV] END class_weight=balanced, max_iter=50, solver=liblinear; total time=   0.0s\n",
            "[CV] END ...class_weight=balanced, max_iter=50, solver=lbfgs; total time=   0.0s\n",
            "[CV] END class_weight=balanced, max_iter=50, solver=liblinear; total time=   0.0s\n",
            "[CV] END class_weight=balanced, max_iter=50, solver=liblinear; total time=   0.0s\n",
            "[CV] END class_weight=balanced, max_iter=50, solver=liblinear; total time=   0.0s\n",
            "[CV] END class_weight=balanced, max_iter=50, solver=liblinear; total time=   0.0s\n",
            "[CV] END class_weight=balanced, max_iter=25, solver=newton-cg; total time=   0.0s\n",
            "[CV] END .....class_weight=balanced, max_iter=50, solver=sag; total time=   0.0s\n",
            "[CV] END .....class_weight=balanced, max_iter=50, solver=sag; total time=   0.0s\n",
            "[CV] END .....class_weight=balanced, max_iter=50, solver=sag; total time=   0.0s\n",
            "[CV] END .....class_weight=balanced, max_iter=50, solver=sag; total time=   0.0s\n",
            "[CV] END class_weight=balanced, max_iter=25, solver=newton-cg; total time=   0.0s\n",
            "[CV] END .....class_weight=balanced, max_iter=50, solver=sag; total time=   0.0s\n",
            "[CV] END ....class_weight=balanced, max_iter=50, solver=saga; total time=   0.0s\n",
            "[CV] END ....class_weight=balanced, max_iter=50, solver=saga; total time=   0.0s\n",
            "[CV] END ....class_weight=balanced, max_iter=50, solver=saga; total time=   0.0s\n",
            "[CV] END ...class_weight=balanced, max_iter=25, solver=lbfgs; total time=   0.0s\n",
            "[CV] END ....class_weight=balanced, max_iter=50, solver=saga; total time=   0.0s\n",
            "[CV] END ....class_weight=balanced, max_iter=50, solver=saga; total time=   0.0s\n",
            "[CV] END class_weight=balanced, max_iter=50, solver=newton-cg; total time=   0.1s\n",
            "[CV] END ...class_weight=balanced, max_iter=25, solver=lbfgs; total time=   0.0s\n",
            "[CV] END ...class_weight=balanced, max_iter=25, solver=lbfgs; total time=   0.0s\n"
          ]
        },
        {
          "name": "stderr",
          "output_type": "stream",
          "text": [
            "/Users/jbchang/Library/Python/3.9/lib/python/site-packages/sklearn/linear_model/_logistic.py:444: ConvergenceWarning: lbfgs failed to converge (status=1):\n",
            "STOP: TOTAL NO. of ITERATIONS REACHED LIMIT.\n",
            "\n",
            "Increase the number of iterations (max_iter) or scale the data as shown in:\n",
            "    https://scikit-learn.org/stable/modules/preprocessing.html\n",
            "Please also refer to the documentation for alternative solver options:\n",
            "    https://scikit-learn.org/stable/modules/linear_model.html#logistic-regression\n",
            "  n_iter_i = _check_optimize_result(\n",
            "/Users/jbchang/Library/Python/3.9/lib/python/site-packages/sklearn/linear_model/_logistic.py:444: ConvergenceWarning: lbfgs failed to converge (status=1):\n",
            "STOP: TOTAL NO. of ITERATIONS REACHED LIMIT.\n",
            "\n",
            "Increase the number of iterations (max_iter) or scale the data as shown in:\n",
            "    https://scikit-learn.org/stable/modules/preprocessing.html\n",
            "Please also refer to the documentation for alternative solver options:\n",
            "    https://scikit-learn.org/stable/modules/linear_model.html#logistic-regression\n",
            "  n_iter_i = _check_optimize_result(\n"
          ]
        }
      ],
      "source": [
        "from sklearn.model_selection import GridSearchCV\n",
        "from sklearn.linear_model import LogisticRegression\n",
        "### BEGIN SOLUTION\n",
        "\n",
        "\n",
        "\n",
        "\n",
        "Model_G = LogisticRegression()\n",
        "Model_Grid = GridSearchCV(Model_G, param_grid=param_cases, verbose=2, n_jobs=-1)\n",
        "Model_Best = Model_Grid.fit(X_train, Y_train)\n",
        "\n",
        "### END SOLUTION"
      ]
    },
    {
      "cell_type": "code",
      "execution_count": 19,
      "metadata": {
        "colab": {
          "base_uri": "https://localhost:8080/"
        },
        "id": "s4ieKX6A7mov",
        "outputId": "d3110676-0669-4e47-b175-4906519ffa98"
      },
      "outputs": [
        {
          "data": {
            "text/html": [
              "<style>#sk-container-id-1 {color: black;background-color: white;}#sk-container-id-1 pre{padding: 0;}#sk-container-id-1 div.sk-toggleable {background-color: white;}#sk-container-id-1 label.sk-toggleable__label {cursor: pointer;display: block;width: 100%;margin-bottom: 0;padding: 0.3em;box-sizing: border-box;text-align: center;}#sk-container-id-1 label.sk-toggleable__label-arrow:before {content: \"▸\";float: left;margin-right: 0.25em;color: #696969;}#sk-container-id-1 label.sk-toggleable__label-arrow:hover:before {color: black;}#sk-container-id-1 div.sk-estimator:hover label.sk-toggleable__label-arrow:before {color: black;}#sk-container-id-1 div.sk-toggleable__content {max-height: 0;max-width: 0;overflow: hidden;text-align: left;background-color: #f0f8ff;}#sk-container-id-1 div.sk-toggleable__content pre {margin: 0.2em;color: black;border-radius: 0.25em;background-color: #f0f8ff;}#sk-container-id-1 input.sk-toggleable__control:checked~div.sk-toggleable__content {max-height: 200px;max-width: 100%;overflow: auto;}#sk-container-id-1 input.sk-toggleable__control:checked~label.sk-toggleable__label-arrow:before {content: \"▾\";}#sk-container-id-1 div.sk-estimator input.sk-toggleable__control:checked~label.sk-toggleable__label {background-color: #d4ebff;}#sk-container-id-1 div.sk-label input.sk-toggleable__control:checked~label.sk-toggleable__label {background-color: #d4ebff;}#sk-container-id-1 input.sk-hidden--visually {border: 0;clip: rect(1px 1px 1px 1px);clip: rect(1px, 1px, 1px, 1px);height: 1px;margin: -1px;overflow: hidden;padding: 0;position: absolute;width: 1px;}#sk-container-id-1 div.sk-estimator {font-family: monospace;background-color: #f0f8ff;border: 1px dotted black;border-radius: 0.25em;box-sizing: border-box;margin-bottom: 0.5em;}#sk-container-id-1 div.sk-estimator:hover {background-color: #d4ebff;}#sk-container-id-1 div.sk-parallel-item::after {content: \"\";width: 100%;border-bottom: 1px solid gray;flex-grow: 1;}#sk-container-id-1 div.sk-label:hover label.sk-toggleable__label {background-color: #d4ebff;}#sk-container-id-1 div.sk-serial::before {content: \"\";position: absolute;border-left: 1px solid gray;box-sizing: border-box;top: 0;bottom: 0;left: 50%;z-index: 0;}#sk-container-id-1 div.sk-serial {display: flex;flex-direction: column;align-items: center;background-color: white;padding-right: 0.2em;padding-left: 0.2em;position: relative;}#sk-container-id-1 div.sk-item {position: relative;z-index: 1;}#sk-container-id-1 div.sk-parallel {display: flex;align-items: stretch;justify-content: center;background-color: white;position: relative;}#sk-container-id-1 div.sk-item::before, #sk-container-id-1 div.sk-parallel-item::before {content: \"\";position: absolute;border-left: 1px solid gray;box-sizing: border-box;top: 0;bottom: 0;left: 50%;z-index: -1;}#sk-container-id-1 div.sk-parallel-item {display: flex;flex-direction: column;z-index: 1;position: relative;background-color: white;}#sk-container-id-1 div.sk-parallel-item:first-child::after {align-self: flex-end;width: 50%;}#sk-container-id-1 div.sk-parallel-item:last-child::after {align-self: flex-start;width: 50%;}#sk-container-id-1 div.sk-parallel-item:only-child::after {width: 0;}#sk-container-id-1 div.sk-dashed-wrapped {border: 1px dashed gray;margin: 0 0.4em 0.5em 0.4em;box-sizing: border-box;padding-bottom: 0.4em;background-color: white;}#sk-container-id-1 div.sk-label label {font-family: monospace;font-weight: bold;display: inline-block;line-height: 1.2em;}#sk-container-id-1 div.sk-label-container {text-align: center;}#sk-container-id-1 div.sk-container {/* jupyter's `normalize.less` sets `[hidden] { display: none; }` but bootstrap.min.css set `[hidden] { display: none !important; }` so we also need the `!important` here to be able to override the default hidden behavior on the sphinx rendered scikit-learn.org. See: https://github.com/scikit-learn/scikit-learn/issues/21755 */display: inline-block !important;position: relative;}#sk-container-id-1 div.sk-text-repr-fallback {display: none;}</style><div id=\"sk-container-id-1\" class=\"sk-top-container\"><div class=\"sk-text-repr-fallback\"><pre>LogisticRegression(class_weight=&#x27;balanced&#x27;, max_iter=25, solver=&#x27;liblinear&#x27;)</pre><b>In a Jupyter environment, please rerun this cell to show the HTML representation or trust the notebook. <br />On GitHub, the HTML representation is unable to render, please try loading this page with nbviewer.org.</b></div><div class=\"sk-container\" hidden><div class=\"sk-item\"><div class=\"sk-estimator sk-toggleable\"><input class=\"sk-toggleable__control sk-hidden--visually\" id=\"sk-estimator-id-1\" type=\"checkbox\" checked><label for=\"sk-estimator-id-1\" class=\"sk-toggleable__label sk-toggleable__label-arrow\">LogisticRegression</label><div class=\"sk-toggleable__content\"><pre>LogisticRegression(class_weight=&#x27;balanced&#x27;, max_iter=25, solver=&#x27;liblinear&#x27;)</pre></div></div></div></div></div>"
            ],
            "text/plain": [
              "LogisticRegression(class_weight='balanced', max_iter=25, solver='liblinear')"
            ]
          },
          "execution_count": 19,
          "metadata": {},
          "output_type": "execute_result"
        }
      ],
      "source": [
        "#Running this command should give you the model parameters which resulted in the best accuracy_score\n",
        "Model_Best.best_estimator_"
      ]
    },
    {
      "cell_type": "code",
      "execution_count": 20,
      "metadata": {
        "colab": {
          "base_uri": "https://localhost:8080/",
          "height": 363
        },
        "id": "8_JvW_Cs-b9J",
        "outputId": "f0937eec-00b2-48b1-efda-aa4a32d24ab4"
      },
      "outputs": [
        {
          "data": {
            "text/html": [
              "<div>\n",
              "<style scoped>\n",
              "    .dataframe tbody tr th:only-of-type {\n",
              "        vertical-align: middle;\n",
              "    }\n",
              "\n",
              "    .dataframe tbody tr th {\n",
              "        vertical-align: top;\n",
              "    }\n",
              "\n",
              "    .dataframe thead th {\n",
              "        text-align: right;\n",
              "    }\n",
              "</style>\n",
              "<table border=\"1\" class=\"dataframe\">\n",
              "  <thead>\n",
              "    <tr style=\"text-align: right;\">\n",
              "      <th></th>\n",
              "      <th>class_weight</th>\n",
              "      <th>max_iter</th>\n",
              "      <th>solver</th>\n",
              "      <th>Accuracy</th>\n",
              "    </tr>\n",
              "  </thead>\n",
              "  <tbody>\n",
              "    <tr>\n",
              "      <th>0</th>\n",
              "      <td>balanced</td>\n",
              "      <td>25</td>\n",
              "      <td>newton-cg</td>\n",
              "      <td>0.591264</td>\n",
              "    </tr>\n",
              "    <tr>\n",
              "      <th>1</th>\n",
              "      <td>balanced</td>\n",
              "      <td>25</td>\n",
              "      <td>lbfgs</td>\n",
              "      <td>0.591264</td>\n",
              "    </tr>\n",
              "    <tr>\n",
              "      <th>2</th>\n",
              "      <td>balanced</td>\n",
              "      <td>25</td>\n",
              "      <td>liblinear</td>\n",
              "      <td>0.611034</td>\n",
              "    </tr>\n",
              "    <tr>\n",
              "      <th>3</th>\n",
              "      <td>balanced</td>\n",
              "      <td>25</td>\n",
              "      <td>sag</td>\n",
              "      <td>0.577471</td>\n",
              "    </tr>\n",
              "    <tr>\n",
              "      <th>4</th>\n",
              "      <td>balanced</td>\n",
              "      <td>25</td>\n",
              "      <td>saga</td>\n",
              "      <td>0.570805</td>\n",
              "    </tr>\n",
              "    <tr>\n",
              "      <th>5</th>\n",
              "      <td>balanced</td>\n",
              "      <td>50</td>\n",
              "      <td>newton-cg</td>\n",
              "      <td>0.591264</td>\n",
              "    </tr>\n",
              "    <tr>\n",
              "      <th>6</th>\n",
              "      <td>balanced</td>\n",
              "      <td>50</td>\n",
              "      <td>lbfgs</td>\n",
              "      <td>0.591264</td>\n",
              "    </tr>\n",
              "    <tr>\n",
              "      <th>7</th>\n",
              "      <td>balanced</td>\n",
              "      <td>50</td>\n",
              "      <td>liblinear</td>\n",
              "      <td>0.611034</td>\n",
              "    </tr>\n",
              "    <tr>\n",
              "      <th>8</th>\n",
              "      <td>balanced</td>\n",
              "      <td>50</td>\n",
              "      <td>sag</td>\n",
              "      <td>0.591264</td>\n",
              "    </tr>\n",
              "    <tr>\n",
              "      <th>9</th>\n",
              "      <td>balanced</td>\n",
              "      <td>50</td>\n",
              "      <td>saga</td>\n",
              "      <td>0.577471</td>\n",
              "    </tr>\n",
              "  </tbody>\n",
              "</table>\n",
              "</div>"
            ],
            "text/plain": [
              "  class_weight  max_iter     solver  Accuracy\n",
              "0     balanced        25  newton-cg  0.591264\n",
              "1     balanced        25      lbfgs  0.591264\n",
              "2     balanced        25  liblinear  0.611034\n",
              "3     balanced        25        sag  0.577471\n",
              "4     balanced        25       saga  0.570805\n",
              "5     balanced        50  newton-cg  0.591264\n",
              "6     balanced        50      lbfgs  0.591264\n",
              "7     balanced        50  liblinear  0.611034\n",
              "8     balanced        50        sag  0.591264\n",
              "9     balanced        50       saga  0.577471"
            ]
          },
          "execution_count": 20,
          "metadata": {},
          "output_type": "execute_result"
        }
      ],
      "source": [
        "#Running this command should give you a nice tablecomparing all models.\n",
        "\n",
        "pd.concat([pd.DataFrame(Model_Best.cv_results_[\"params\"]),pd.DataFrame(Model_Best.cv_results_[\"mean_test_score\"], columns=[\"Accuracy\"])],axis=1)\n"
      ]
    },
    {
      "cell_type": "markdown",
      "metadata": {
        "id": "07tnzcU8fDdY"
      },
      "source": [
        "## Step 10: Logistic Regression - Best\n",
        "\n",
        "Running the following command should give you a confusion matrix of the best logistic regression model!"
      ]
    },
    {
      "cell_type": "code",
      "execution_count": 21,
      "metadata": {
        "colab": {
          "base_uri": "https://localhost:8080/",
          "height": 355
        },
        "id": "DTu-OTuBf0r0",
        "outputId": "e0092407-cb36-4416-97b7-542c7f402b66"
      },
      "outputs": [
        {
          "name": "stderr",
          "output_type": "stream",
          "text": [
            "/Users/jbchang/Library/Python/3.9/lib/python/site-packages/sklearn/utils/deprecation.py:87: FutureWarning: Function plot_confusion_matrix is deprecated; Function `plot_confusion_matrix` is deprecated in 1.0 and will be removed in 1.2. Use one of the class methods: ConfusionMatrixDisplay.from_predictions or ConfusionMatrixDisplay.from_estimator.\n",
            "  warnings.warn(msg, category=FutureWarning)\n"
          ]
        },
        {
          "data": {
            "text/plain": [
              "<sklearn.metrics._plot.confusion_matrix.ConfusionMatrixDisplay at 0x136c18940>"
            ]
          },
          "execution_count": 21,
          "metadata": {},
          "output_type": "execute_result"
        },
        {
          "data": {
            "image/png": "[encoded data removed]",
            "text/plain": [
              "<Figure size 640x480 with 2 Axes>"
            ]
          },
          "metadata": {},
          "output_type": "display_data"
        }
      ],
      "source": [
        "from sklearn.metrics import plot_confusion_matrix\n",
        "plot_confusion_matrix(Model_Best.best_estimator_,X_test,Y_test)"
      ]
    }
  ],
  "metadata": {
    "colab": {
      "provenance": []
    },
    "kernelspec": {
      "display_name": "Python 3.9.6 64-bit",
      "language": "python",
      "name": "python3"
    },
    "language_info": {
      "codemirror_mode": {
        "name": "ipython",
        "version": 3
      },
      "file_extension": ".py",
      "mimetype": "text/x-python",
      "name": "python",
      "nbconvert_exporter": "python",
      "pygments_lexer": "ipython3",
      "version": "3.9.6"
    },
    "vscode": {
      "interpreter": {
        "hash": "31f2aee4e71d21fbe5cf8b01ff0e069b9275f58929596ceb00d14d90e3e16cd6"
      }
    }
  },
  "nbformat": 4,
  "nbformat_minor": 0
}
