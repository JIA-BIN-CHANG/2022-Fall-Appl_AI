{
  "nbformat": 4,
  "nbformat_minor": 0,
  "metadata": {
    "colab": {
      "provenance": [],
      "collapsed_sections": []
    },
    "kernelspec": {
      "name": "python3",
      "display_name": "Python 3"
    },
    "language_info": {
      "name": "python"
    }
  },
  "cells": [
    {
      "cell_type": "markdown",
      "source": [
        "# Polynomial Regression - From scratch\n",
        "\n",
        "In this assignment, we would like to predict *Total Sales* based on *TV Advertisement (X1)* and *Radio advertisement(X2)*:\n",
        "\n",
        "$$Y=\\theta_0+\\theta_1X_1+\\theta_2X_1^2+\\theta_3X_2+\\theta_4X_2^2$$\n",
        "\n",
        "*As shown in the equation above, we will use <font color='red'> the features and their squared version </font> so this is a polinomial regression.*"
      ],
      "metadata": {
        "id": "aCJw8fTKi2VJ"
      }
    },
    {
      "cell_type": "markdown",
      "source": [
        "## Step 0: Import Modules"
      ],
      "metadata": {
        "id": "4Ly32BfTOpCq"
      }
    },
    {
      "cell_type": "code",
      "execution_count": null,
      "metadata": {
        "id": "DdhL4ZspOcig"
      },
      "outputs": [],
      "source": [
        "import numpy as np\n",
        "import pandas as pd\n",
        "import matplotlib.pyplot as plt"
      ]
    },
    {
      "cell_type": "markdown",
      "source": [
        "## Step 1: Setup dataset\n",
        "1.    Download the dataset (.csv file) from Kaggle https://www.kaggle.com/ishaanv/ISLR-Auto and upload it to your colab notebook\n",
        "2.    Load the csv file to a DataFrame callsed data"
      ],
      "metadata": {
        "id": "JvXvwuaVjQN2"
      }
    },
    {
      "cell_type": "code",
      "source": [
        "### BEGIN SOLUTION\n",
        "data=\n",
        "### END SOLUTION"
      ],
      "metadata": {
        "id": "5HxLwifAJavY"
      },
      "execution_count": null,
      "outputs": []
    },
    {
      "cell_type": "markdown",
      "source": [
        "## Step 2: Form the features\n",
        "\n",
        "Define the following variables for the features and label.\n",
        "\n",
        "*   'X1' for $$(TV Advertisement)$$ \n",
        "*   'X1_X1' for $$(TV Advertisement)^2$$ \n",
        "*   'X2' for $$(Radio Advertisement)$$ \n",
        "*   'X2_X2' for $$(Radio Advertisement)^2$$ \n",
        "*   'Y' for Sales\n"
      ],
      "metadata": {
        "id": "39EPIvAIJx4R"
      }
    },
    {
      "cell_type": "code",
      "source": [
        "### BEGIN SOLUTION\n",
        "\n",
        "X1=\n",
        "\n",
        "X1_X1=\n",
        "\n",
        "X2=\n",
        "\n",
        "X2_X2=\n",
        "\n",
        "Y=\n",
        "\n",
        "### END SOLUTION"
      ],
      "metadata": {
        "id": "gAuzMYEGKCC9"
      },
      "execution_count": null,
      "outputs": []
    },
    {
      "cell_type": "markdown",
      "source": [
        "## Step 3: Normalization\n",
        "\n",
        "Normalize the features and label using the features defined in the previous step and store them in the following variables:\n",
        "\n",
        "* 'X1_N'\n",
        "* 'X1_X1_N'\n",
        "* 'X2_N'\n",
        "* 'X2_X2_N'\n",
        "* 'Y_N'"
      ],
      "metadata": {
        "id": "r0AXN6CsKeAR"
      }
    },
    {
      "cell_type": "code",
      "source": [
        "### BEGIN SOLUTION\n",
        "\n",
        "\n",
        "\n",
        "\n",
        "\n",
        "\n",
        "### END SOLUTION"
      ],
      "metadata": {
        "id": "7vvj5TJRLORz"
      },
      "execution_count": null,
      "outputs": []
    },
    {
      "cell_type": "markdown",
      "source": [
        "## Step 4: Forming the iteration\n",
        "\n",
        "As described in the problem statement, we would like to find a function such that: \n",
        "\n",
        ">$$Sales=\\theta_0+\\theta_1(TV Advertisement)+\\theta_2(TV Advertisement)^2+\\theta_3(Radio Advertisement)+\\theta_4(Radio Advertisement)^2$$\n",
        "\n",
        "\n",
        "\n",
        "1.   Initialize theta parameters: $$\\theta_0,\\theta_1,\\theta_2,\\theta_3,\\theta_4$$Pick a number between 0 to 0.5 for all Thetas. You will have to change these values over and over till you get the result you want\n",
        "\n",
        "2.   Initialize the learning rate eta $$\\eta$$ as a value between 0 and 0.1. You will have to change the learning rate over and over till you get the result you want.\n",
        "\n",
        "3.  Form the loss function (Mean squared error) as below:\n",
        "\n",
        ">>$J= \\frac{1}{Data Size}\\sum_{Data} (\\hat{y}-y)^2$\n",
        "\n",
        ">>>$\\hat{y}$ is the predicted value\n",
        "\n",
        ">>>$y$ is the actual value\n",
        "\n",
        "4.  Form the deravatives of Loss (J) with respect to Thetas:\n",
        "\n",
        ">>$Jt0 = \\frac{dJ}{d\\theta_0}$<br>\n",
        ">>$Jt1 = \\frac{dJ}{d\\theta_1}$<br>\n",
        ">>$Jt2 = \\frac{dJ}{d\\theta_2}$<br>\n",
        ">>$Jt3 = \\frac{dJ}{d\\theta_3}$<br>\n",
        ">>$Jt4 = \\frac{dJ}{d\\theta_4}$\n",
        "\n",
        "5.  Form the iterative procedure in which Theta values are updated based on the derivatives (Gradient Descent).\n",
        "\n",
        "<font color='red'> Important notes:\n",
        "\n",
        "\n",
        "*   It is important that you do not change the variable names in the code below\n",
        "*   When your code finishes, you need to have the final Theta values in a list called Theta; the first elelement of the list should be theta0, the second item of the list should be theta1,...\n",
        "*   You need to have a variable called J_All which records the J values as your iterative procedure runs (Append J value to the list in each iteration) so you can plot J_All in the next step.  \n",
        "*   The iterative procedure goes through all data as many times as you want (Select a number larger than 100 and below 10000)\n",
        "*   Dont forget to use the normalized features"
      ],
      "metadata": {
        "id": "VUIyYw7ELTTt"
      }
    },
    {
      "cell_type": "code",
      "source": [
        "### BEGIN SOLUTION\n",
        "theta=[]\n",
        "eta=\n",
        "\n",
        "J=\n",
        "Jt0=\n",
        "Jt1=\n",
        "Jt2=\n",
        "Jt3=\n",
        "Jt4=\n",
        "\n",
        "J_All=\n",
        "### END SOLUTION"
      ],
      "metadata": {
        "id": "MbEEnZAOLewL"
      },
      "execution_count": null,
      "outputs": []
    },
    {
      "cell_type": "markdown",
      "source": [
        "##Step 5: Verify the variables\n",
        "\n",
        "Run the following code block and make sure:\n",
        "*   The first line should print the eta value that you have selected\n",
        "*   The second line should print True\n",
        "*   The third line should print True"
      ],
      "metadata": {
        "id": "m2NdjxRdpEza"
      }
    },
    {
      "cell_type": "code",
      "source": [
        "print (eta)\n",
        "print (len(theta)==5)\n",
        "print (len(J_All)>100)"
      ],
      "metadata": {
        "colab": {
          "base_uri": "https://localhost:8080/"
        },
        "id": "mRS-Tmk6pEDx",
        "outputId": "30738c90-5326-4cce-da5d-c3a68b071eb6"
      },
      "execution_count": null,
      "outputs": [
        {
          "output_type": "stream",
          "name": "stdout",
          "text": [
            "0.2\n",
            "True\n",
            "True\n"
          ]
        }
      ]
    },
    {
      "cell_type": "markdown",
      "source": [
        "## Step 6: Create a loss plot\n",
        "\n",
        "Run the following code and you should see the loss going down as the number of iteration increases"
      ],
      "metadata": {
        "id": "HsUh6W10LhmV"
      }
    },
    {
      "cell_type": "code",
      "source": [
        "plt.plot(J_All)"
      ],
      "metadata": {
        "id": "lfJ2IUPcLi0H"
      },
      "execution_count": null,
      "outputs": []
    },
    {
      "cell_type": "markdown",
      "source": [
        "## Step 7: Form the predictions\n",
        "\n",
        "Use the final Theta values and normalized features to form the prediction variable\n"
      ],
      "metadata": {
        "id": "_nvHLdouLmSE"
      }
    },
    {
      "cell_type": "code",
      "source": [
        "### BEGIN SOLUTION\n",
        "\n",
        "Predicted=\n",
        "\n",
        "### END SOLUTION"
      ],
      "metadata": {
        "id": "iCRGz059LpOe"
      },
      "execution_count": null,
      "outputs": []
    },
    {
      "cell_type": "markdown",
      "source": [
        "Step 8: Verify the predictions \n",
        "\n",
        "Run the following commands, you should be able to see the actual values in blue and predicted values in red."
      ],
      "metadata": {
        "id": "dFxBHaPSsF_9"
      }
    },
    {
      "cell_type": "code",
      "source": [
        "plt.scatter(X1_N,Y_N)\n",
        "plt.scatter(X1_N,Predicted,color='red')\n",
        "plt.xlabel('TV Advertisement')\n",
        "plt.ylabel('Sales')\n",
        "plt.figure()\n",
        "plt.scatter(X2_N,Y_N)\n",
        "plt.scatter(X2_N,Predicted,color='red')\n",
        "plt.xlabel('Radio Advertisement')\n",
        "plt.ylabel('Sales')"
      ],
      "metadata": {
        "id": "owSoS_5EODIT"
      },
      "execution_count": null,
      "outputs": []
    }
  ]
}