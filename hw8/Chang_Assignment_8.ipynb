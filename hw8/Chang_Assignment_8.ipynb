{
  "cells": [
    {
      "cell_type": "markdown",
      "metadata": {
        "id": "H75elAV04YeP"
      },
      "source": [
        "#[Assignment 8] Vanilla MLP vs Upsampled MLP \n",
        "\n",
        "In this assingment you will work on classification of a glass dataset that is available through Kaggle:\n",
        "\n",
        "https://www.kaggle.com/datasets/uciml/glass"
      ]
    },
    {
      "cell_type": "markdown",
      "metadata": {
        "id": "4Ly32BfTOpCq"
      },
      "source": [
        "## Step 0: Import Modules"
      ]
    },
    {
      "cell_type": "code",
      "execution_count": 1,
      "metadata": {
        "id": "H4LCuDe27Nw9"
      },
      "outputs": [],
      "source": [
        "import numpy as np\n",
        "import pandas as pd\n",
        "import matplotlib.pyplot as plt"
      ]
    },
    {
      "cell_type": "markdown",
      "metadata": {
        "id": "c9F9yEB-4bvf"
      },
      "source": [
        "## Step 1: Load Data\n",
        "\n",
        "Run the following command will download the **glass.csv** to your colab and then load it to a DataFrame"
      ]
    },
    {
      "cell_type": "code",
      "execution_count": 2,
      "metadata": {
        "colab": {
          "base_uri": "https://localhost:8080/"
        },
        "id": "rwY3BPPK4jz2",
        "outputId": "ebed438e-81eb-4f91-ef41-e8075d33bbc0"
      },
      "outputs": [],
      "source": [
        "# !gdown 1IijSItKzryxCz_2PWn6g316KEU7rkIfZ\n",
        "data=pd.read_csv('glass.csv')"
      ]
    },
    {
      "cell_type": "code",
      "execution_count": 3,
      "metadata": {
        "colab": {
          "base_uri": "https://localhost:8080/",
          "height": 206
        },
        "id": "lhsrkJkE5DCP",
        "outputId": "ec6e783d-bf03-4a86-c682-6a9e9120ebb2"
      },
      "outputs": [
        {
          "data": {
            "text/html": [
              "<div>\n",
              "<style scoped>\n",
              "    .dataframe tbody tr th:only-of-type {\n",
              "        vertical-align: middle;\n",
              "    }\n",
              "\n",
              "    .dataframe tbody tr th {\n",
              "        vertical-align: top;\n",
              "    }\n",
              "\n",
              "    .dataframe thead th {\n",
              "        text-align: right;\n",
              "    }\n",
              "</style>\n",
              "<table border=\"1\" class=\"dataframe\">\n",
              "  <thead>\n",
              "    <tr style=\"text-align: right;\">\n",
              "      <th></th>\n",
              "      <th>RI</th>\n",
              "      <th>Na</th>\n",
              "      <th>Mg</th>\n",
              "      <th>Al</th>\n",
              "      <th>Si</th>\n",
              "      <th>K</th>\n",
              "      <th>Ca</th>\n",
              "      <th>Ba</th>\n",
              "      <th>Fe</th>\n",
              "      <th>Type</th>\n",
              "    </tr>\n",
              "  </thead>\n",
              "  <tbody>\n",
              "    <tr>\n",
              "      <th>0</th>\n",
              "      <td>1.52101</td>\n",
              "      <td>13.64</td>\n",
              "      <td>4.49</td>\n",
              "      <td>1.10</td>\n",
              "      <td>71.78</td>\n",
              "      <td>0.06</td>\n",
              "      <td>8.75</td>\n",
              "      <td>0.0</td>\n",
              "      <td>0.0</td>\n",
              "      <td>1</td>\n",
              "    </tr>\n",
              "    <tr>\n",
              "      <th>1</th>\n",
              "      <td>1.51761</td>\n",
              "      <td>13.89</td>\n",
              "      <td>3.60</td>\n",
              "      <td>1.36</td>\n",
              "      <td>72.73</td>\n",
              "      <td>0.48</td>\n",
              "      <td>7.83</td>\n",
              "      <td>0.0</td>\n",
              "      <td>0.0</td>\n",
              "      <td>1</td>\n",
              "    </tr>\n",
              "    <tr>\n",
              "      <th>2</th>\n",
              "      <td>1.51618</td>\n",
              "      <td>13.53</td>\n",
              "      <td>3.55</td>\n",
              "      <td>1.54</td>\n",
              "      <td>72.99</td>\n",
              "      <td>0.39</td>\n",
              "      <td>7.78</td>\n",
              "      <td>0.0</td>\n",
              "      <td>0.0</td>\n",
              "      <td>1</td>\n",
              "    </tr>\n",
              "    <tr>\n",
              "      <th>3</th>\n",
              "      <td>1.51766</td>\n",
              "      <td>13.21</td>\n",
              "      <td>3.69</td>\n",
              "      <td>1.29</td>\n",
              "      <td>72.61</td>\n",
              "      <td>0.57</td>\n",
              "      <td>8.22</td>\n",
              "      <td>0.0</td>\n",
              "      <td>0.0</td>\n",
              "      <td>1</td>\n",
              "    </tr>\n",
              "    <tr>\n",
              "      <th>4</th>\n",
              "      <td>1.51742</td>\n",
              "      <td>13.27</td>\n",
              "      <td>3.62</td>\n",
              "      <td>1.24</td>\n",
              "      <td>73.08</td>\n",
              "      <td>0.55</td>\n",
              "      <td>8.07</td>\n",
              "      <td>0.0</td>\n",
              "      <td>0.0</td>\n",
              "      <td>1</td>\n",
              "    </tr>\n",
              "  </tbody>\n",
              "</table>\n",
              "</div>"
            ],
            "text/plain": [
              "        RI     Na    Mg    Al     Si     K    Ca   Ba   Fe  Type\n",
              "0  1.52101  13.64  4.49  1.10  71.78  0.06  8.75  0.0  0.0     1\n",
              "1  1.51761  13.89  3.60  1.36  72.73  0.48  7.83  0.0  0.0     1\n",
              "2  1.51618  13.53  3.55  1.54  72.99  0.39  7.78  0.0  0.0     1\n",
              "3  1.51766  13.21  3.69  1.29  72.61  0.57  8.22  0.0  0.0     1\n",
              "4  1.51742  13.27  3.62  1.24  73.08  0.55  8.07  0.0  0.0     1"
            ]
          },
          "execution_count": 3,
          "metadata": {},
          "output_type": "execute_result"
        }
      ],
      "source": [
        "data.head()"
      ]
    },
    {
      "cell_type": "markdown",
      "metadata": {
        "id": "9QE3Yf-G7hTy"
      },
      "source": [
        "## Step 2: Defining the problem \n",
        "\n",
        "Using this Dataset, we would like to solve a multi class classification problem:\n",
        "\n",
        "*   **Type** Column is the label \n",
        "*   And the rest of columns are features\n",
        "\n",
        "Therefore, we would like to train a model which takes the features and predict Type!"
      ]
    },
    {
      "cell_type": "markdown",
      "metadata": {
        "id": "laL2vseAooHy"
      },
      "source": [
        "## Step 3: Data Encoding\n",
        "\n",
        "Data Encoding is not needed because all columns are numberical as shown in the result of **data.info()**"
      ]
    },
    {
      "cell_type": "code",
      "execution_count": 4,
      "metadata": {
        "colab": {
          "base_uri": "https://localhost:8080/"
        },
        "id": "DliciuBwGeDC",
        "outputId": "649fd506-22b2-4192-d511-efa6d60b68fb"
      },
      "outputs": [
        {
          "name": "stdout",
          "output_type": "stream",
          "text": [
            "<class 'pandas.core.frame.DataFrame'>\n",
            "RangeIndex: 214 entries, 0 to 213\n",
            "Data columns (total 10 columns):\n",
            " #   Column  Non-Null Count  Dtype  \n",
            "---  ------  --------------  -----  \n",
            " 0   RI      214 non-null    float64\n",
            " 1   Na      214 non-null    float64\n",
            " 2   Mg      214 non-null    float64\n",
            " 3   Al      214 non-null    float64\n",
            " 4   Si      214 non-null    float64\n",
            " 5   K       214 non-null    float64\n",
            " 6   Ca      214 non-null    float64\n",
            " 7   Ba      214 non-null    float64\n",
            " 8   Fe      214 non-null    float64\n",
            " 9   Type    214 non-null    int64  \n",
            "dtypes: float64(9), int64(1)\n",
            "memory usage: 16.8 KB\n"
          ]
        }
      ],
      "source": [
        "data.info()"
      ]
    },
    {
      "cell_type": "markdown",
      "metadata": {
        "id": "dR0zHb7_sFVv"
      },
      "source": [
        "## Step 4: Label Analysis\n",
        "\n",
        "Run the following command to see the values in the label column. As you can see there are **7 classes numbered from 1 to 7**\n",
        "\n",
        "*   Looking at the histogram you see that the data is **unbalanced** and different classes have diffenre number of records. \n",
        "*   **Class 4 does not have any records**; we dont have any record in data that its type is 4. We double check this by running `data[data['Type']==4]` and getting no records."
      ]
    },
    {
      "cell_type": "code",
      "execution_count": 5,
      "metadata": {
        "colab": {
          "base_uri": "https://localhost:8080/"
        },
        "id": "eHUUoKZoX1mM",
        "outputId": "bb422f92-4934-4dda-e793-353ea9cfbf69"
      },
      "outputs": [
        {
          "data": {
            "text/plain": [
              "0      1\n",
              "1      1\n",
              "2      1\n",
              "3      1\n",
              "4      1\n",
              "      ..\n",
              "209    7\n",
              "210    7\n",
              "211    7\n",
              "212    7\n",
              "213    7\n",
              "Name: Type, Length: 214, dtype: int64"
            ]
          },
          "execution_count": 5,
          "metadata": {},
          "output_type": "execute_result"
        }
      ],
      "source": [
        "data['Type']"
      ]
    },
    {
      "cell_type": "code",
      "execution_count": 6,
      "metadata": {
        "colab": {
          "base_uri": "https://localhost:8080/",
          "height": 282
        },
        "id": "1TfsXeJYYuKf",
        "outputId": "9190a26a-133f-4092-e21a-cc065ef7b177"
      },
      "outputs": [
        {
          "data": {
            "text/plain": [
              "<AxesSubplot: >"
            ]
          },
          "execution_count": 6,
          "metadata": {},
          "output_type": "execute_result"
        },
        {
          "data": {
            "image/png": "[encoded data removed]",
            "text/plain": [
              "<Figure size 640x480 with 1 Axes>"
            ]
          },
          "metadata": {},
          "output_type": "display_data"
        }
      ],
      "source": [
        "data['Type'].hist(bins=[0.5,1.5,2.5,3.5,4.5,5.5,6.5,7.5])"
      ]
    },
    {
      "cell_type": "code",
      "execution_count": 7,
      "metadata": {
        "colab": {
          "base_uri": "https://localhost:8080/",
          "height": 49
        },
        "id": "nmd_WvTKZP0-",
        "outputId": "f0a02eca-4bd2-4b2a-9fbf-64ba8a1d02d7"
      },
      "outputs": [
        {
          "data": {
            "text/html": [
              "<div>\n",
              "<style scoped>\n",
              "    .dataframe tbody tr th:only-of-type {\n",
              "        vertical-align: middle;\n",
              "    }\n",
              "\n",
              "    .dataframe tbody tr th {\n",
              "        vertical-align: top;\n",
              "    }\n",
              "\n",
              "    .dataframe thead th {\n",
              "        text-align: right;\n",
              "    }\n",
              "</style>\n",
              "<table border=\"1\" class=\"dataframe\">\n",
              "  <thead>\n",
              "    <tr style=\"text-align: right;\">\n",
              "      <th></th>\n",
              "      <th>RI</th>\n",
              "      <th>Na</th>\n",
              "      <th>Mg</th>\n",
              "      <th>Al</th>\n",
              "      <th>Si</th>\n",
              "      <th>K</th>\n",
              "      <th>Ca</th>\n",
              "      <th>Ba</th>\n",
              "      <th>Fe</th>\n",
              "      <th>Type</th>\n",
              "    </tr>\n",
              "  </thead>\n",
              "  <tbody>\n",
              "  </tbody>\n",
              "</table>\n",
              "</div>"
            ],
            "text/plain": [
              "Empty DataFrame\n",
              "Columns: [RI, Na, Mg, Al, Si, K, Ca, Ba, Fe, Type]\n",
              "Index: []"
            ]
          },
          "execution_count": 7,
          "metadata": {},
          "output_type": "execute_result"
        }
      ],
      "source": [
        "data[data['Type']==4]"
      ]
    },
    {
      "cell_type": "markdown",
      "metadata": {
        "id": "kc8-XVJYary2"
      },
      "source": [
        "## Step 5: Normalize Data [0 points]\n",
        "\n",
        "Use  `StandardScaler` from Scikit-learn and normalize all the features **except** the label.\n",
        "\n",
        "Your normalized features should be save in a DataFrame called `data_n_df` and all column names should be **presearved**.\n"
      ]
    },
    {
      "cell_type": "code",
      "execution_count": 8,
      "metadata": {
        "id": "EKzJx1zWbJSw"
      },
      "outputs": [],
      "source": [
        "from sklearn.preprocessing import StandardScaler\n",
        "### BEGIN SOLUTION\n",
        "\n",
        "scaler = StandardScaler()\n",
        "scaler.fit(data.drop(columns='Type'))\n",
        "data_scaled = scaler.transform(data.drop(columns='Type'))\n",
        "data_n_df=pd.DataFrame(data=data_scaled)\n",
        "data_n_df.columns = ['RI', 'Na', 'Mg', 'Al', 'Si', 'K', 'Ca', 'Ba',\t'Fe']\n",
        "### END SOLUTION"
      ]
    },
    {
      "cell_type": "code",
      "execution_count": 9,
      "metadata": {
        "colab": {
          "base_uri": "https://localhost:8080/"
        },
        "id": "R7HYib5obPpB",
        "outputId": "40ff6133-5bd6-499b-94e5-3a644f71bc15"
      },
      "outputs": [
        {
          "data": {
            "text/plain": [
              "True"
            ]
          },
          "execution_count": 9,
          "metadata": {},
          "output_type": "execute_result"
        }
      ],
      "source": [
        "#if you did the normalization correct, the follwoing command should print True\n",
        "round(data_n_df['RI'].mean())+round(data_n_df['K'].mean())==0"
      ]
    },
    {
      "cell_type": "markdown",
      "metadata": {
        "id": "uSuEu7yCbjnv"
      },
      "source": [
        "## Step 6: Let's review the correlation among features\n",
        "\n",
        "Just run the block of code! Dont drop any features even if you see high correlation."
      ]
    },
    {
      "cell_type": "code",
      "execution_count": 10,
      "metadata": {
        "colab": {
          "base_uri": "https://localhost:8080/",
          "height": 576
        },
        "id": "PhIPLC0svo27",
        "outputId": "bf85e0f0-3259-4e9e-e10d-8298012669be"
      },
      "outputs": [
        {
          "name": "stderr",
          "output_type": "stream",
          "text": [
            "/var/folders/4k/t40pq35106x74tksg9mtcwj00000gn/T/ipykernel_67363/2739963929.py:6: DeprecationWarning: `np.bool` is a deprecated alias for the builtin `bool`. To silence this warning, use `bool` by itself. Doing this will not modify any behavior and is safe. If you specifically wanted the numpy scalar type, use `np.bool_` here.\n",
            "Deprecated in NumPy 1.20; for more details and guidance: https://numpy.org/devdocs/release/1.20.0-notes.html#deprecations\n",
            "  sns.heatmap(corr, mask=np.zeros_like(corr, dtype=np.bool), cmap=sns.diverging_palette(220, 10, as_cmap=True),\n"
          ]
        },
        {
          "data": {
            "text/plain": [
              "<AxesSubplot: >"
            ]
          },
          "execution_count": 10,
          "metadata": {},
          "output_type": "execute_result"
        },
        {
          "data": {
            "image/png": "[encoded data removed]",
            "text/plain": [
              "<Figure size 1000x800 with 2 Axes>"
            ]
          },
          "metadata": {},
          "output_type": "display_data"
        }
      ],
      "source": [
        "import seaborn as sns\n",
        "corr=abs(data_n_df.corr())\n",
        "\n",
        "\n",
        "f, ax = plt.subplots(figsize=(10, 8))\n",
        "sns.heatmap(corr, mask=np.zeros_like(corr, dtype=np.bool), cmap=sns.diverging_palette(220, 10, as_cmap=True),\n",
        "            square=True, ax=ax)"
      ]
    },
    {
      "cell_type": "markdown",
      "metadata": {
        "id": "NV5WQh19s1Os"
      },
      "source": [
        "## Step 7: Data Split [0 points]\n",
        "\n",
        "Use  `train_test_split` from Scikit-learn and split the Features and Label(Y) to **70%** training subset and **30%** test subset. Use the variable names as shown below. \n",
        "\n",
        "<font color=red>You **must** use `random_state=10` to get the result needed.</font>"
      ]
    },
    {
      "cell_type": "code",
      "execution_count": 11,
      "metadata": {
        "id": "4hQQSBEqdOHG"
      },
      "outputs": [],
      "source": [
        "from sklearn.model_selection import train_test_split\n",
        "### BEGIN SOLUTION\n",
        "\n",
        "\n",
        "\n",
        "X_train, X_test, Y_train, Y_test = train_test_split(data_n_df, data['Type'], random_state=10, train_size=0.7)\n",
        "\n",
        "### END SOLUTION"
      ]
    },
    {
      "cell_type": "code",
      "execution_count": 12,
      "metadata": {
        "colab": {
          "base_uri": "https://localhost:8080/",
          "height": 282
        },
        "id": "a12NZb-3xbqQ",
        "outputId": "bd946b85-838c-4356-b171-483de1cffab7"
      },
      "outputs": [
        {
          "data": {
            "text/plain": [
              "<AxesSubplot: >"
            ]
          },
          "execution_count": 12,
          "metadata": {},
          "output_type": "execute_result"
        },
        {
          "data": {
            "image/png": "[encoded data removed]",
            "text/plain": [
              "<Figure size 640x480 with 1 Axes>"
            ]
          },
          "metadata": {},
          "output_type": "display_data"
        }
      ],
      "source": [
        "#Review the following histograms and see how data is split.\n",
        "Y_train.hist(bins=[0.5,1.5,2.5,3.5,4.5,5.5,6.5,7.5])\n",
        "Y_test.hist(bins=[0.5,1.5,2.5,3.5,4.5,5.5,6.5,7.5])"
      ]
    },
    {
      "cell_type": "markdown",
      "metadata": {
        "id": "F5W0WS2T2fui"
      },
      "source": [
        "## Step 8: MLP Grid search [5 points]\n",
        "\n",
        "Running the following command should give you a confusion matrix of the best logistic regression model!"
      ]
    },
    {
      "cell_type": "markdown",
      "metadata": {
        "id": "ttf6oSTA23TP"
      },
      "source": [
        "###8.1 Form your dictionary of parameters\n",
        "\n",
        "Go to the help of MLP in the following link:\n",
        "\n",
        "https://scikit-learn.org/stable/modules/generated/sklearn.neural_network.MLPClassifier.html\n",
        "\n",
        "And form your param_cases using these arguments:\n",
        "\n",
        "*   'hidden_layer_sizes'\n",
        "*   'activation'\n",
        "*   'solver'\n",
        "*   'learning_rate'\n",
        "*   'max_iter'\n",
        "\n",
        "Do **not** use other parameters."
      ]
    },
    {
      "cell_type": "code",
      "execution_count": 13,
      "metadata": {
        "id": "4WPX7Qyf20QP"
      },
      "outputs": [],
      "source": [
        "### BEGIN SOLUTION\n",
        "\n",
        "\n",
        "param_cases={\n",
        "    'hidden_layer_sizes':[(30,), (30,10)],\n",
        "    'activation': ['logistic', 'tanh', 'relu'],\n",
        "    'solver' : ['lbfgs', 'adam'],\n",
        "    'learning_rate' : ['constant', 'adaptive'],\n",
        "    'max_iter' : [10000]\n",
        "}\n",
        "\n",
        "### END SOLUTION"
      ]
    },
    {
      "cell_type": "markdown",
      "metadata": {
        "id": "JRDv1WbQ3vJI"
      },
      "source": [
        "###8.2 Training all models\n",
        "\n",
        "Complete the code below so it runs all the combinations of parameters from param_cases.\n",
        "\n",
        "<font color=red>Change the param_cases, run the following block and evaluate the result till you get accuracy of %80+ </font> "
      ]
    },
    {
      "cell_type": "code",
      "execution_count": 14,
      "metadata": {
        "colab": {
          "base_uri": "https://localhost:8080/"
        },
        "id": "XrfXYV-V2x5c",
        "outputId": "0a0a7c06-ef13-4220-c55d-8bb729cb4579"
      },
      "outputs": [
        {
          "name": "stdout",
          "output_type": "stream",
          "text": [
            "Fitting 5 folds for each of 24 candidates, totalling 120 fits\n"
          ]
        }
      ],
      "source": [
        "from sklearn.model_selection import GridSearchCV\n",
        "from sklearn.neural_network import MLPClassifier\n",
        "### BEGIN SOLUTION\n",
        "\n",
        "MLP_G = MLPClassifier()\n",
        "MLP_Grid = GridSearchCV(MLP_G, param_grid=param_cases, verbose=1)\n",
        "MLP_Best = MLP_Grid.fit(X_train, Y_train)\n",
        "\n",
        "\n",
        "### END SOLUTION"
      ]
    },
    {
      "cell_type": "markdown",
      "metadata": {
        "id": "gkwQsedg5DwO"
      },
      "source": [
        "###8.3 Evaluate the result\n",
        "\n",
        "Run the following command to see the result in **descending** order.\n"
      ]
    },
    {
      "cell_type": "code",
      "execution_count": 15,
      "metadata": {
        "colab": {
          "base_uri": "https://localhost:8080/",
          "height": 424
        },
        "id": "sMfA33Q84Nk-",
        "outputId": "64fe090a-b80d-4248-dc53-228802e0b969"
      },
      "outputs": [
        {
          "data": {
            "text/html": [
              "<div>\n",
              "<style scoped>\n",
              "    .dataframe tbody tr th:only-of-type {\n",
              "        vertical-align: middle;\n",
              "    }\n",
              "\n",
              "    .dataframe tbody tr th {\n",
              "        vertical-align: top;\n",
              "    }\n",
              "\n",
              "    .dataframe thead th {\n",
              "        text-align: right;\n",
              "    }\n",
              "</style>\n",
              "<table border=\"1\" class=\"dataframe\">\n",
              "  <thead>\n",
              "    <tr style=\"text-align: right;\">\n",
              "      <th></th>\n",
              "      <th>activation</th>\n",
              "      <th>hidden_layer_sizes</th>\n",
              "      <th>learning_rate</th>\n",
              "      <th>max_iter</th>\n",
              "      <th>solver</th>\n",
              "      <th>Accuracy</th>\n",
              "    </tr>\n",
              "  </thead>\n",
              "  <tbody>\n",
              "    <tr>\n",
              "      <th>23</th>\n",
              "      <td>relu</td>\n",
              "      <td>(30, 10)</td>\n",
              "      <td>adaptive</td>\n",
              "      <td>10000</td>\n",
              "      <td>adam</td>\n",
              "      <td>0.805747</td>\n",
              "    </tr>\n",
              "    <tr>\n",
              "      <th>15</th>\n",
              "      <td>tanh</td>\n",
              "      <td>(30, 10)</td>\n",
              "      <td>adaptive</td>\n",
              "      <td>10000</td>\n",
              "      <td>adam</td>\n",
              "      <td>0.799310</td>\n",
              "    </tr>\n",
              "    <tr>\n",
              "      <th>21</th>\n",
              "      <td>relu</td>\n",
              "      <td>(30, 10)</td>\n",
              "      <td>constant</td>\n",
              "      <td>10000</td>\n",
              "      <td>adam</td>\n",
              "      <td>0.799080</td>\n",
              "    </tr>\n",
              "    <tr>\n",
              "      <th>1</th>\n",
              "      <td>logistic</td>\n",
              "      <td>(30,)</td>\n",
              "      <td>constant</td>\n",
              "      <td>10000</td>\n",
              "      <td>adam</td>\n",
              "      <td>0.799080</td>\n",
              "    </tr>\n",
              "    <tr>\n",
              "      <th>17</th>\n",
              "      <td>relu</td>\n",
              "      <td>(30,)</td>\n",
              "      <td>constant</td>\n",
              "      <td>10000</td>\n",
              "      <td>adam</td>\n",
              "      <td>0.798851</td>\n",
              "    </tr>\n",
              "    <tr>\n",
              "      <th>7</th>\n",
              "      <td>logistic</td>\n",
              "      <td>(30, 10)</td>\n",
              "      <td>adaptive</td>\n",
              "      <td>10000</td>\n",
              "      <td>adam</td>\n",
              "      <td>0.792184</td>\n",
              "    </tr>\n",
              "    <tr>\n",
              "      <th>0</th>\n",
              "      <td>logistic</td>\n",
              "      <td>(30,)</td>\n",
              "      <td>constant</td>\n",
              "      <td>10000</td>\n",
              "      <td>lbfgs</td>\n",
              "      <td>0.792184</td>\n",
              "    </tr>\n",
              "    <tr>\n",
              "      <th>3</th>\n",
              "      <td>logistic</td>\n",
              "      <td>(30,)</td>\n",
              "      <td>adaptive</td>\n",
              "      <td>10000</td>\n",
              "      <td>adam</td>\n",
              "      <td>0.791954</td>\n",
              "    </tr>\n",
              "    <tr>\n",
              "      <th>13</th>\n",
              "      <td>tanh</td>\n",
              "      <td>(30, 10)</td>\n",
              "      <td>constant</td>\n",
              "      <td>10000</td>\n",
              "      <td>adam</td>\n",
              "      <td>0.785517</td>\n",
              "    </tr>\n",
              "    <tr>\n",
              "      <th>5</th>\n",
              "      <td>logistic</td>\n",
              "      <td>(30, 10)</td>\n",
              "      <td>constant</td>\n",
              "      <td>10000</td>\n",
              "      <td>adam</td>\n",
              "      <td>0.785287</td>\n",
              "    </tr>\n",
              "    <tr>\n",
              "      <th>16</th>\n",
              "      <td>relu</td>\n",
              "      <td>(30,)</td>\n",
              "      <td>constant</td>\n",
              "      <td>10000</td>\n",
              "      <td>lbfgs</td>\n",
              "      <td>0.772184</td>\n",
              "    </tr>\n",
              "    <tr>\n",
              "      <th>11</th>\n",
              "      <td>tanh</td>\n",
              "      <td>(30,)</td>\n",
              "      <td>adaptive</td>\n",
              "      <td>10000</td>\n",
              "      <td>adam</td>\n",
              "      <td>0.765747</td>\n",
              "    </tr>\n",
              "    <tr>\n",
              "      <th>18</th>\n",
              "      <td>relu</td>\n",
              "      <td>(30,)</td>\n",
              "      <td>adaptive</td>\n",
              "      <td>10000</td>\n",
              "      <td>lbfgs</td>\n",
              "      <td>0.765517</td>\n",
              "    </tr>\n",
              "    <tr>\n",
              "      <th>20</th>\n",
              "      <td>relu</td>\n",
              "      <td>(30, 10)</td>\n",
              "      <td>constant</td>\n",
              "      <td>10000</td>\n",
              "      <td>lbfgs</td>\n",
              "      <td>0.765517</td>\n",
              "    </tr>\n",
              "    <tr>\n",
              "      <th>19</th>\n",
              "      <td>relu</td>\n",
              "      <td>(30,)</td>\n",
              "      <td>adaptive</td>\n",
              "      <td>10000</td>\n",
              "      <td>adam</td>\n",
              "      <td>0.758851</td>\n",
              "    </tr>\n",
              "    <tr>\n",
              "      <th>2</th>\n",
              "      <td>logistic</td>\n",
              "      <td>(30,)</td>\n",
              "      <td>adaptive</td>\n",
              "      <td>10000</td>\n",
              "      <td>lbfgs</td>\n",
              "      <td>0.751954</td>\n",
              "    </tr>\n",
              "    <tr>\n",
              "      <th>12</th>\n",
              "      <td>tanh</td>\n",
              "      <td>(30, 10)</td>\n",
              "      <td>constant</td>\n",
              "      <td>10000</td>\n",
              "      <td>lbfgs</td>\n",
              "      <td>0.745057</td>\n",
              "    </tr>\n",
              "    <tr>\n",
              "      <th>9</th>\n",
              "      <td>tanh</td>\n",
              "      <td>(30,)</td>\n",
              "      <td>constant</td>\n",
              "      <td>10000</td>\n",
              "      <td>adam</td>\n",
              "      <td>0.731724</td>\n",
              "    </tr>\n",
              "    <tr>\n",
              "      <th>22</th>\n",
              "      <td>relu</td>\n",
              "      <td>(30, 10)</td>\n",
              "      <td>adaptive</td>\n",
              "      <td>10000</td>\n",
              "      <td>lbfgs</td>\n",
              "      <td>0.731724</td>\n",
              "    </tr>\n",
              "    <tr>\n",
              "      <th>8</th>\n",
              "      <td>tanh</td>\n",
              "      <td>(30,)</td>\n",
              "      <td>constant</td>\n",
              "      <td>10000</td>\n",
              "      <td>lbfgs</td>\n",
              "      <td>0.725287</td>\n",
              "    </tr>\n",
              "    <tr>\n",
              "      <th>14</th>\n",
              "      <td>tanh</td>\n",
              "      <td>(30, 10)</td>\n",
              "      <td>adaptive</td>\n",
              "      <td>10000</td>\n",
              "      <td>lbfgs</td>\n",
              "      <td>0.718851</td>\n",
              "    </tr>\n",
              "    <tr>\n",
              "      <th>10</th>\n",
              "      <td>tanh</td>\n",
              "      <td>(30,)</td>\n",
              "      <td>adaptive</td>\n",
              "      <td>10000</td>\n",
              "      <td>lbfgs</td>\n",
              "      <td>0.698391</td>\n",
              "    </tr>\n",
              "    <tr>\n",
              "      <th>4</th>\n",
              "      <td>logistic</td>\n",
              "      <td>(30, 10)</td>\n",
              "      <td>constant</td>\n",
              "      <td>10000</td>\n",
              "      <td>lbfgs</td>\n",
              "      <td>0.692184</td>\n",
              "    </tr>\n",
              "    <tr>\n",
              "      <th>6</th>\n",
              "      <td>logistic</td>\n",
              "      <td>(30, 10)</td>\n",
              "      <td>adaptive</td>\n",
              "      <td>10000</td>\n",
              "      <td>lbfgs</td>\n",
              "      <td>0.685287</td>\n",
              "    </tr>\n",
              "  </tbody>\n",
              "</table>\n",
              "</div>"
            ],
            "text/plain": [
              "   activation hidden_layer_sizes learning_rate  max_iter solver  Accuracy\n",
              "23       relu           (30, 10)      adaptive     10000   adam  0.805747\n",
              "15       tanh           (30, 10)      adaptive     10000   adam  0.799310\n",
              "21       relu           (30, 10)      constant     10000   adam  0.799080\n",
              "1    logistic              (30,)      constant     10000   adam  0.799080\n",
              "17       relu              (30,)      constant     10000   adam  0.798851\n",
              "7    logistic           (30, 10)      adaptive     10000   adam  0.792184\n",
              "0    logistic              (30,)      constant     10000  lbfgs  0.792184\n",
              "3    logistic              (30,)      adaptive     10000   adam  0.791954\n",
              "13       tanh           (30, 10)      constant     10000   adam  0.785517\n",
              "5    logistic           (30, 10)      constant     10000   adam  0.785287\n",
              "16       relu              (30,)      constant     10000  lbfgs  0.772184\n",
              "11       tanh              (30,)      adaptive     10000   adam  0.765747\n",
              "18       relu              (30,)      adaptive     10000  lbfgs  0.765517\n",
              "20       relu           (30, 10)      constant     10000  lbfgs  0.765517\n",
              "19       relu              (30,)      adaptive     10000   adam  0.758851\n",
              "2    logistic              (30,)      adaptive     10000  lbfgs  0.751954\n",
              "12       tanh           (30, 10)      constant     10000  lbfgs  0.745057\n",
              "9        tanh              (30,)      constant     10000   adam  0.731724\n",
              "22       relu           (30, 10)      adaptive     10000  lbfgs  0.731724\n",
              "8        tanh              (30,)      constant     10000  lbfgs  0.725287\n",
              "14       tanh           (30, 10)      adaptive     10000  lbfgs  0.718851\n",
              "10       tanh              (30,)      adaptive     10000  lbfgs  0.698391\n",
              "4    logistic           (30, 10)      constant     10000  lbfgs  0.692184\n",
              "6    logistic           (30, 10)      adaptive     10000  lbfgs  0.685287"
            ]
          },
          "execution_count": 15,
          "metadata": {},
          "output_type": "execute_result"
        }
      ],
      "source": [
        "pd.concat([pd.DataFrame(MLP_Best.cv_results_[\"params\"]),pd.DataFrame(MLP_Best.cv_results_[\"mean_test_score\"], columns=[\"Accuracy\"])],axis=1).sort_values(by=['Accuracy'], ascending=False)"
      ]
    },
    {
      "cell_type": "markdown",
      "metadata": {
        "id": "Q5s_d_rK4UAP"
      },
      "source": [
        "###8.4 Confusion Matrix\n",
        "\n",
        "Run the following command to see the confusion matrix of your best model\n"
      ]
    },
    {
      "cell_type": "code",
      "execution_count": 16,
      "metadata": {
        "colab": {
          "base_uri": "https://localhost:8080/",
          "height": 355
        },
        "id": "UqbV1O3W4mpp",
        "outputId": "b4c0a22e-f3fa-4d64-ae4a-d4ecc93e92ac"
      },
      "outputs": [
        {
          "name": "stderr",
          "output_type": "stream",
          "text": [
            "/Users/jbchang/Library/Python/3.9/lib/python/site-packages/sklearn/utils/deprecation.py:87: FutureWarning: Function plot_confusion_matrix is deprecated; Function `plot_confusion_matrix` is deprecated in 1.0 and will be removed in 1.2. Use one of the class methods: ConfusionMatrixDisplay.from_predictions or ConfusionMatrixDisplay.from_estimator.\n",
            "  warnings.warn(msg, category=FutureWarning)\n"
          ]
        },
        {
          "data": {
            "text/plain": [
              "<sklearn.metrics._plot.confusion_matrix.ConfusionMatrixDisplay at 0x1268c7ee0>"
            ]
          },
          "execution_count": 16,
          "metadata": {},
          "output_type": "execute_result"
        },
        {
          "data": {
            "image/png": "[encoded data removed]",
            "text/plain": [
              "<Figure size 640x480 with 2 Axes>"
            ]
          },
          "metadata": {},
          "output_type": "display_data"
        }
      ],
      "source": [
        "from sklearn.metrics import plot_confusion_matrix\n",
        "plot_confusion_matrix(MLP_Best.best_estimator_,X_test,Y_test)"
      ]
    },
    {
      "cell_type": "markdown",
      "metadata": {
        "id": "4RsQI0X4y3Yl"
      },
      "source": [
        "###8.5 Classification Report\n",
        "\n",
        "Run the following command to see the f1-score and accuracy on test data"
      ]
    },
    {
      "cell_type": "code",
      "execution_count": 17,
      "metadata": {
        "colab": {
          "base_uri": "https://localhost:8080/"
        },
        "id": "hYIQPNcmzFIJ",
        "outputId": "c2759f17-cc2c-4a2a-c1cc-19c870c1f218"
      },
      "outputs": [
        {
          "name": "stdout",
          "output_type": "stream",
          "text": [
            "              precision    recall  f1-score   support\n",
            "\n",
            "           1       0.69      0.44      0.54        25\n",
            "           2       0.38      0.71      0.49        17\n",
            "           3       0.17      0.14      0.15         7\n",
            "           5       0.67      0.50      0.57         4\n",
            "           6       1.00      0.50      0.67         4\n",
            "           7       0.83      0.62      0.71         8\n",
            "\n",
            "    accuracy                           0.51        65\n",
            "   macro avg       0.62      0.49      0.52        65\n",
            "weighted avg       0.59      0.51      0.52        65\n",
            "\n"
          ]
        }
      ],
      "source": [
        "from sklearn.metrics import classification_report\n",
        "print(classification_report(Y_test, MLP_Best.best_estimator_.predict(X_test)))"
      ]
    },
    {
      "cell_type": "markdown",
      "metadata": {
        "id": "-ULM2AdQ8qys"
      },
      "source": [
        "<font color=red>As you can see in the classification report, the f1-score is pretty low. Why?? because data is imbalanced and we have not accomodated for this issue. Look at confusion Matrix (8.4) one more time and it should be clear to you.</font>"
      ]
    },
    {
      "cell_type": "markdown",
      "metadata": {
        "id": "E-3YNqF0zNt4"
      },
      "source": [
        "## Step 9: MLP Grid search + Upsampling [5 points]\n",
        "\n",
        "The classification report is not impressive? why? because data is **imbalanced** \n",
        "\n",
        "In this step we will deal with Imbalanced data using upsampling!"
      ]
    },
    {
      "cell_type": "markdown",
      "metadata": {
        "id": "Iodb2IAQzsGX"
      },
      "source": [
        "###9.1: Form a DataFrame \n",
        "\n",
        "All normalized features + Label (data['Type'])"
      ]
    },
    {
      "cell_type": "code",
      "execution_count": 18,
      "metadata": {
        "colab": {
          "base_uri": "https://localhost:8080/",
          "height": 282
        },
        "id": "mp_TPa-dzrY3",
        "outputId": "a2781e21-264e-49e9-9bc2-e3b043733b12"
      },
      "outputs": [
        {
          "data": {
            "text/plain": [
              "<AxesSubplot: >"
            ]
          },
          "execution_count": 18,
          "metadata": {},
          "output_type": "execute_result"
        },
        {
          "data": {
            "image/png": "[encoded data removed]",
            "text/plain": [
              "<Figure size 640x480 with 1 Axes>"
            ]
          },
          "metadata": {},
          "output_type": "display_data"
        }
      ],
      "source": [
        "#run this block of code to see the distribution of labels one more time!\n",
        "data['Type'].hist(bins=[0.5,1.5,2.5,3.5,4.5,5.5,6.5,7.5])"
      ]
    },
    {
      "cell_type": "markdown",
      "metadata": {
        "id": "PiAC2al79L1B"
      },
      "source": [
        "<font color=red>Class 1 and 2 are acceptable but classes 3,5,6 and 7 have small number of records - they need to be upsampled</font>"
      ]
    },
    {
      "cell_type": "code",
      "execution_count": 19,
      "metadata": {
        "id": "71JERYbX0Pns"
      },
      "outputs": [],
      "source": [
        "#run this block to get features and label all in one DataFrame\n",
        "data_n_df_all=pd.concat([data_n_df, data['Type']],axis=1)"
      ]
    },
    {
      "cell_type": "code",
      "execution_count": 20,
      "metadata": {
        "colab": {
          "base_uri": "https://localhost:8080/",
          "height": 206
        },
        "id": "12qCPRe40Wb3",
        "outputId": "572baf5e-f1df-4120-c924-05478d13117c"
      },
      "outputs": [
        {
          "data": {
            "text/html": [
              "<div>\n",
              "<style scoped>\n",
              "    .dataframe tbody tr th:only-of-type {\n",
              "        vertical-align: middle;\n",
              "    }\n",
              "\n",
              "    .dataframe tbody tr th {\n",
              "        vertical-align: top;\n",
              "    }\n",
              "\n",
              "    .dataframe thead th {\n",
              "        text-align: right;\n",
              "    }\n",
              "</style>\n",
              "<table border=\"1\" class=\"dataframe\">\n",
              "  <thead>\n",
              "    <tr style=\"text-align: right;\">\n",
              "      <th></th>\n",
              "      <th>RI</th>\n",
              "      <th>Na</th>\n",
              "      <th>Mg</th>\n",
              "      <th>Al</th>\n",
              "      <th>Si</th>\n",
              "      <th>K</th>\n",
              "      <th>Ca</th>\n",
              "      <th>Ba</th>\n",
              "      <th>Fe</th>\n",
              "      <th>Type</th>\n",
              "    </tr>\n",
              "  </thead>\n",
              "  <tbody>\n",
              "    <tr>\n",
              "      <th>0</th>\n",
              "      <td>0.872868</td>\n",
              "      <td>0.284953</td>\n",
              "      <td>1.254639</td>\n",
              "      <td>-0.692442</td>\n",
              "      <td>-1.127082</td>\n",
              "      <td>-0.671705</td>\n",
              "      <td>-0.145766</td>\n",
              "      <td>-0.352877</td>\n",
              "      <td>-0.586451</td>\n",
              "      <td>1</td>\n",
              "    </tr>\n",
              "    <tr>\n",
              "      <th>1</th>\n",
              "      <td>-0.249333</td>\n",
              "      <td>0.591817</td>\n",
              "      <td>0.636168</td>\n",
              "      <td>-0.170460</td>\n",
              "      <td>0.102319</td>\n",
              "      <td>-0.026213</td>\n",
              "      <td>-0.793734</td>\n",
              "      <td>-0.352877</td>\n",
              "      <td>-0.586451</td>\n",
              "      <td>1</td>\n",
              "    </tr>\n",
              "    <tr>\n",
              "      <th>2</th>\n",
              "      <td>-0.721318</td>\n",
              "      <td>0.149933</td>\n",
              "      <td>0.601422</td>\n",
              "      <td>0.190912</td>\n",
              "      <td>0.438787</td>\n",
              "      <td>-0.164533</td>\n",
              "      <td>-0.828949</td>\n",
              "      <td>-0.352877</td>\n",
              "      <td>-0.586451</td>\n",
              "      <td>1</td>\n",
              "    </tr>\n",
              "    <tr>\n",
              "      <th>3</th>\n",
              "      <td>-0.232831</td>\n",
              "      <td>-0.242853</td>\n",
              "      <td>0.698710</td>\n",
              "      <td>-0.310994</td>\n",
              "      <td>-0.052974</td>\n",
              "      <td>0.112107</td>\n",
              "      <td>-0.519052</td>\n",
              "      <td>-0.352877</td>\n",
              "      <td>-0.586451</td>\n",
              "      <td>1</td>\n",
              "    </tr>\n",
              "    <tr>\n",
              "      <th>4</th>\n",
              "      <td>-0.312045</td>\n",
              "      <td>-0.169205</td>\n",
              "      <td>0.650066</td>\n",
              "      <td>-0.411375</td>\n",
              "      <td>0.555256</td>\n",
              "      <td>0.081369</td>\n",
              "      <td>-0.624699</td>\n",
              "      <td>-0.352877</td>\n",
              "      <td>-0.586451</td>\n",
              "      <td>1</td>\n",
              "    </tr>\n",
              "  </tbody>\n",
              "</table>\n",
              "</div>"
            ],
            "text/plain": [
              "         RI        Na        Mg        Al        Si         K        Ca  \\\n",
              "0  0.872868  0.284953  1.254639 -0.692442 -1.127082 -0.671705 -0.145766   \n",
              "1 -0.249333  0.591817  0.636168 -0.170460  0.102319 -0.026213 -0.793734   \n",
              "2 -0.721318  0.149933  0.601422  0.190912  0.438787 -0.164533 -0.828949   \n",
              "3 -0.232831 -0.242853  0.698710 -0.310994 -0.052974  0.112107 -0.519052   \n",
              "4 -0.312045 -0.169205  0.650066 -0.411375  0.555256  0.081369 -0.624699   \n",
              "\n",
              "         Ba        Fe  Type  \n",
              "0 -0.352877 -0.586451     1  \n",
              "1 -0.352877 -0.586451     1  \n",
              "2 -0.352877 -0.586451     1  \n",
              "3 -0.352877 -0.586451     1  \n",
              "4 -0.352877 -0.586451     1  "
            ]
          },
          "execution_count": 20,
          "metadata": {},
          "output_type": "execute_result"
        }
      ],
      "source": [
        "#let's look at the DataFrame\n",
        "data_n_df_all.head()"
      ]
    },
    {
      "cell_type": "markdown",
      "metadata": {
        "id": "4Nx9Vfxg0hMG"
      },
      "source": [
        "###9.2: Re-sampling\n",
        "\n",
        "The idea here is to repeat the records that belong to classes 3,5,6 and 7 to have more records for these classes. So we re-sample; we add repeated records to the original dataset to make classes balanced.\n",
        "\n",
        "We are going to use resample from Scikit learn:\n",
        "\n",
        "https://scikit-learn.org/stable/modules/generated/sklearn.utils.resample.html"
      ]
    },
    {
      "cell_type": "code",
      "execution_count": 21,
      "metadata": {
        "id": "_tS1dEco2m_x"
      },
      "outputs": [],
      "source": [
        "from sklearn.utils import resample\n",
        "#In the following line, we create a new dataframe by including only type=1 and type=2 because these two classes already have enough records and do not need to upsample (look at the histogram in 9.1)\n",
        "data_n_df_upsampled=data_n_df_all[(data['Type']==1) | (data['Type']==2)].copy()"
      ]
    },
    {
      "cell_type": "markdown",
      "metadata": {
        "id": "Q3cKcLD42grr"
      },
      "source": [
        "Write a code in the following block that upsample Type 3,5,6 and 7 so that each of them have 70 records. And then append them all to the `data_n_df_upsampled`\n"
      ]
    },
    {
      "cell_type": "code",
      "execution_count": 22,
      "metadata": {
        "id": "nsA_0h2q1vhF"
      },
      "outputs": [],
      "source": [
        "### BEGIN SOLUTION\n",
        "labels=[3,5,6,7]\n",
        "for label in labels:\n",
        "    y=data_n_df_all[data['Type']==label]\n",
        "    re_y = resample(y, n_samples=70,replace=True, stratify=y, random_state=0)\n",
        "    data_n_df_upsampled=pd.concat([data_n_df_upsampled, re_y], axis=0)\n",
        "    \n",
        "### END SOLUTION"
      ]
    },
    {
      "cell_type": "code",
      "execution_count": 23,
      "metadata": {
        "colab": {
          "base_uri": "https://localhost:8080/",
          "height": 282
        },
        "id": "fVt432_M2suL",
        "outputId": "0f3f3ab2-a54c-4803-fb09-9b6332c7bc80"
      },
      "outputs": [
        {
          "data": {
            "text/plain": [
              "<AxesSubplot: >"
            ]
          },
          "execution_count": 23,
          "metadata": {},
          "output_type": "execute_result"
        },
        {
          "data": {
            "image/png": "[encoded data removed]",
            "text/plain": [
              "<Figure size 640x480 with 1 Axes>"
            ]
          },
          "metadata": {},
          "output_type": "display_data"
        }
      ],
      "source": [
        "#if you done the upsampling correct, then running the following command should show the data that has 70 records for all classes. Type 2 has just a ccouple of more records.\n",
        "data_n_df_upsampled['Type'].hist()"
      ]
    },
    {
      "cell_type": "markdown",
      "metadata": {
        "id": "6BYjAOBl29p5"
      },
      "source": [
        "###9.3: Split\n",
        "\n",
        "Use  `train_test_split` from Scikit-learn and split the balanced dataframe to **70%** training subset and **30%** test subset. Use the variable names as shown below. \n",
        "\n",
        "<font color=red>You **must** use `random_state=10` to get the result needed.</font>"
      ]
    },
    {
      "cell_type": "code",
      "execution_count": 24,
      "metadata": {
        "id": "v4fLQaz-28y2"
      },
      "outputs": [],
      "source": [
        "from sklearn.model_selection import train_test_split\n",
        "### BEGIN SOLUTION\n",
        "\n",
        "\n",
        "X_train_U, X_test_U, Y_train_U, Y_test_U = train_test_split(data_n_df_upsampled.drop(columns='Type'), data_n_df_upsampled['Type'], random_state=10, train_size=0.7)\n",
        "\n",
        "### END SOLUTION"
      ]
    },
    {
      "cell_type": "markdown",
      "metadata": {
        "id": "6xJqXYe83Ydo"
      },
      "source": [
        "###9.4 Training all models\n",
        "\n",
        "Complete the code below so it runs all the combinations of parameters from `param_cases`\n",
        "\n",
        "Do **not** re-define param_cases. Use the one you already had in previous sections."
      ]
    },
    {
      "cell_type": "code",
      "execution_count": 25,
      "metadata": {
        "colab": {
          "base_uri": "https://localhost:8080/"
        },
        "id": "iROehSno3Yds",
        "outputId": "3f13b02e-9cc8-46ac-cc28-ac1e1d12aecb"
      },
      "outputs": [
        {
          "name": "stdout",
          "output_type": "stream",
          "text": [
            "Fitting 5 folds for each of 24 candidates, totalling 120 fits\n"
          ]
        }
      ],
      "source": [
        "from sklearn.model_selection import GridSearchCV\n",
        "from sklearn.neural_network import MLPClassifier\n",
        "### BEGIN SOLUTION\n",
        "\n",
        "MLP_G_U =  MLPClassifier()\n",
        "MLP_Grid_U = GridSearchCV(MLP_G, param_grid=param_cases)\n",
        "MLP_Best_U = MLP_Grid.fit(X_train_U, Y_train_U)\n",
        "\n",
        "### END SOLUTION"
      ]
    },
    {
      "cell_type": "markdown",
      "metadata": {
        "id": "dnEy1QhB3hTo"
      },
      "source": [
        "###9.5 Evaluate the result\n",
        "\n",
        "Run the following command to see the result in **descending** order.\n"
      ]
    },
    {
      "cell_type": "code",
      "execution_count": 26,
      "metadata": {
        "colab": {
          "base_uri": "https://localhost:8080/",
          "height": 424
        },
        "id": "oafGFGXe3hTp",
        "outputId": "bfe4e16c-71d2-4c6a-c416-1aa1780d4ca8"
      },
      "outputs": [
        {
          "data": {
            "text/html": [
              "<div>\n",
              "<style scoped>\n",
              "    .dataframe tbody tr th:only-of-type {\n",
              "        vertical-align: middle;\n",
              "    }\n",
              "\n",
              "    .dataframe tbody tr th {\n",
              "        vertical-align: top;\n",
              "    }\n",
              "\n",
              "    .dataframe thead th {\n",
              "        text-align: right;\n",
              "    }\n",
              "</style>\n",
              "<table border=\"1\" class=\"dataframe\">\n",
              "  <thead>\n",
              "    <tr style=\"text-align: right;\">\n",
              "      <th></th>\n",
              "      <th>activation</th>\n",
              "      <th>hidden_layer_sizes</th>\n",
              "      <th>learning_rate</th>\n",
              "      <th>max_iter</th>\n",
              "      <th>solver</th>\n",
              "      <th>Accuracy</th>\n",
              "    </tr>\n",
              "  </thead>\n",
              "  <tbody>\n",
              "    <tr>\n",
              "      <th>2</th>\n",
              "      <td>logistic</td>\n",
              "      <td>(30,)</td>\n",
              "      <td>adaptive</td>\n",
              "      <td>10000</td>\n",
              "      <td>lbfgs</td>\n",
              "      <td>0.882655</td>\n",
              "    </tr>\n",
              "    <tr>\n",
              "      <th>23</th>\n",
              "      <td>relu</td>\n",
              "      <td>(30, 10)</td>\n",
              "      <td>adaptive</td>\n",
              "      <td>10000</td>\n",
              "      <td>adam</td>\n",
              "      <td>0.879209</td>\n",
              "    </tr>\n",
              "    <tr>\n",
              "      <th>19</th>\n",
              "      <td>relu</td>\n",
              "      <td>(30,)</td>\n",
              "      <td>adaptive</td>\n",
              "      <td>10000</td>\n",
              "      <td>adam</td>\n",
              "      <td>0.879209</td>\n",
              "    </tr>\n",
              "    <tr>\n",
              "      <th>15</th>\n",
              "      <td>tanh</td>\n",
              "      <td>(30, 10)</td>\n",
              "      <td>adaptive</td>\n",
              "      <td>10000</td>\n",
              "      <td>adam</td>\n",
              "      <td>0.875989</td>\n",
              "    </tr>\n",
              "    <tr>\n",
              "      <th>21</th>\n",
              "      <td>relu</td>\n",
              "      <td>(30, 10)</td>\n",
              "      <td>constant</td>\n",
              "      <td>10000</td>\n",
              "      <td>adam</td>\n",
              "      <td>0.875989</td>\n",
              "    </tr>\n",
              "    <tr>\n",
              "      <th>5</th>\n",
              "      <td>logistic</td>\n",
              "      <td>(30, 10)</td>\n",
              "      <td>constant</td>\n",
              "      <td>10000</td>\n",
              "      <td>adam</td>\n",
              "      <td>0.872768</td>\n",
              "    </tr>\n",
              "    <tr>\n",
              "      <th>4</th>\n",
              "      <td>logistic</td>\n",
              "      <td>(30, 10)</td>\n",
              "      <td>constant</td>\n",
              "      <td>10000</td>\n",
              "      <td>lbfgs</td>\n",
              "      <td>0.872260</td>\n",
              "    </tr>\n",
              "    <tr>\n",
              "      <th>7</th>\n",
              "      <td>logistic</td>\n",
              "      <td>(30, 10)</td>\n",
              "      <td>adaptive</td>\n",
              "      <td>10000</td>\n",
              "      <td>adam</td>\n",
              "      <td>0.869435</td>\n",
              "    </tr>\n",
              "    <tr>\n",
              "      <th>20</th>\n",
              "      <td>relu</td>\n",
              "      <td>(30, 10)</td>\n",
              "      <td>constant</td>\n",
              "      <td>10000</td>\n",
              "      <td>lbfgs</td>\n",
              "      <td>0.869266</td>\n",
              "    </tr>\n",
              "    <tr>\n",
              "      <th>17</th>\n",
              "      <td>relu</td>\n",
              "      <td>(30,)</td>\n",
              "      <td>constant</td>\n",
              "      <td>10000</td>\n",
              "      <td>adam</td>\n",
              "      <td>0.869209</td>\n",
              "    </tr>\n",
              "    <tr>\n",
              "      <th>8</th>\n",
              "      <td>tanh</td>\n",
              "      <td>(30,)</td>\n",
              "      <td>constant</td>\n",
              "      <td>10000</td>\n",
              "      <td>lbfgs</td>\n",
              "      <td>0.869153</td>\n",
              "    </tr>\n",
              "    <tr>\n",
              "      <th>16</th>\n",
              "      <td>relu</td>\n",
              "      <td>(30,)</td>\n",
              "      <td>constant</td>\n",
              "      <td>10000</td>\n",
              "      <td>lbfgs</td>\n",
              "      <td>0.865763</td>\n",
              "    </tr>\n",
              "    <tr>\n",
              "      <th>11</th>\n",
              "      <td>tanh</td>\n",
              "      <td>(30,)</td>\n",
              "      <td>adaptive</td>\n",
              "      <td>10000</td>\n",
              "      <td>adam</td>\n",
              "      <td>0.862655</td>\n",
              "    </tr>\n",
              "    <tr>\n",
              "      <th>1</th>\n",
              "      <td>logistic</td>\n",
              "      <td>(30,)</td>\n",
              "      <td>constant</td>\n",
              "      <td>10000</td>\n",
              "      <td>adam</td>\n",
              "      <td>0.862542</td>\n",
              "    </tr>\n",
              "    <tr>\n",
              "      <th>12</th>\n",
              "      <td>tanh</td>\n",
              "      <td>(30, 10)</td>\n",
              "      <td>constant</td>\n",
              "      <td>10000</td>\n",
              "      <td>lbfgs</td>\n",
              "      <td>0.859209</td>\n",
              "    </tr>\n",
              "    <tr>\n",
              "      <th>10</th>\n",
              "      <td>tanh</td>\n",
              "      <td>(30,)</td>\n",
              "      <td>adaptive</td>\n",
              "      <td>10000</td>\n",
              "      <td>lbfgs</td>\n",
              "      <td>0.859209</td>\n",
              "    </tr>\n",
              "    <tr>\n",
              "      <th>9</th>\n",
              "      <td>tanh</td>\n",
              "      <td>(30,)</td>\n",
              "      <td>constant</td>\n",
              "      <td>10000</td>\n",
              "      <td>adam</td>\n",
              "      <td>0.855932</td>\n",
              "    </tr>\n",
              "    <tr>\n",
              "      <th>0</th>\n",
              "      <td>logistic</td>\n",
              "      <td>(30,)</td>\n",
              "      <td>constant</td>\n",
              "      <td>10000</td>\n",
              "      <td>lbfgs</td>\n",
              "      <td>0.855932</td>\n",
              "    </tr>\n",
              "    <tr>\n",
              "      <th>13</th>\n",
              "      <td>tanh</td>\n",
              "      <td>(30, 10)</td>\n",
              "      <td>constant</td>\n",
              "      <td>10000</td>\n",
              "      <td>adam</td>\n",
              "      <td>0.855876</td>\n",
              "    </tr>\n",
              "    <tr>\n",
              "      <th>18</th>\n",
              "      <td>relu</td>\n",
              "      <td>(30,)</td>\n",
              "      <td>adaptive</td>\n",
              "      <td>10000</td>\n",
              "      <td>lbfgs</td>\n",
              "      <td>0.855650</td>\n",
              "    </tr>\n",
              "    <tr>\n",
              "      <th>14</th>\n",
              "      <td>tanh</td>\n",
              "      <td>(30, 10)</td>\n",
              "      <td>adaptive</td>\n",
              "      <td>10000</td>\n",
              "      <td>lbfgs</td>\n",
              "      <td>0.852486</td>\n",
              "    </tr>\n",
              "    <tr>\n",
              "      <th>3</th>\n",
              "      <td>logistic</td>\n",
              "      <td>(30,)</td>\n",
              "      <td>adaptive</td>\n",
              "      <td>10000</td>\n",
              "      <td>adam</td>\n",
              "      <td>0.842486</td>\n",
              "    </tr>\n",
              "    <tr>\n",
              "      <th>6</th>\n",
              "      <td>logistic</td>\n",
              "      <td>(30, 10)</td>\n",
              "      <td>adaptive</td>\n",
              "      <td>10000</td>\n",
              "      <td>lbfgs</td>\n",
              "      <td>0.842373</td>\n",
              "    </tr>\n",
              "    <tr>\n",
              "      <th>22</th>\n",
              "      <td>relu</td>\n",
              "      <td>(30, 10)</td>\n",
              "      <td>adaptive</td>\n",
              "      <td>10000</td>\n",
              "      <td>lbfgs</td>\n",
              "      <td>0.835706</td>\n",
              "    </tr>\n",
              "  </tbody>\n",
              "</table>\n",
              "</div>"
            ],
            "text/plain": [
              "   activation hidden_layer_sizes learning_rate  max_iter solver  Accuracy\n",
              "2    logistic              (30,)      adaptive     10000  lbfgs  0.882655\n",
              "23       relu           (30, 10)      adaptive     10000   adam  0.879209\n",
              "19       relu              (30,)      adaptive     10000   adam  0.879209\n",
              "15       tanh           (30, 10)      adaptive     10000   adam  0.875989\n",
              "21       relu           (30, 10)      constant     10000   adam  0.875989\n",
              "5    logistic           (30, 10)      constant     10000   adam  0.872768\n",
              "4    logistic           (30, 10)      constant     10000  lbfgs  0.872260\n",
              "7    logistic           (30, 10)      adaptive     10000   adam  0.869435\n",
              "20       relu           (30, 10)      constant     10000  lbfgs  0.869266\n",
              "17       relu              (30,)      constant     10000   adam  0.869209\n",
              "8        tanh              (30,)      constant     10000  lbfgs  0.869153\n",
              "16       relu              (30,)      constant     10000  lbfgs  0.865763\n",
              "11       tanh              (30,)      adaptive     10000   adam  0.862655\n",
              "1    logistic              (30,)      constant     10000   adam  0.862542\n",
              "12       tanh           (30, 10)      constant     10000  lbfgs  0.859209\n",
              "10       tanh              (30,)      adaptive     10000  lbfgs  0.859209\n",
              "9        tanh              (30,)      constant     10000   adam  0.855932\n",
              "0    logistic              (30,)      constant     10000  lbfgs  0.855932\n",
              "13       tanh           (30, 10)      constant     10000   adam  0.855876\n",
              "18       relu              (30,)      adaptive     10000  lbfgs  0.855650\n",
              "14       tanh           (30, 10)      adaptive     10000  lbfgs  0.852486\n",
              "3    logistic              (30,)      adaptive     10000   adam  0.842486\n",
              "6    logistic           (30, 10)      adaptive     10000  lbfgs  0.842373\n",
              "22       relu           (30, 10)      adaptive     10000  lbfgs  0.835706"
            ]
          },
          "execution_count": 26,
          "metadata": {},
          "output_type": "execute_result"
        }
      ],
      "source": [
        "pd.concat([pd.DataFrame(MLP_Best_U.cv_results_[\"params\"]),pd.DataFrame(MLP_Best_U.cv_results_[\"mean_test_score\"], columns=[\"Accuracy\"])],axis=1).sort_values(by=['Accuracy'], ascending=False)"
      ]
    },
    {
      "cell_type": "markdown",
      "metadata": {
        "id": "OCalh9yM3hTp"
      },
      "source": [
        "###9.6 Confusion Matrix\n",
        "\n",
        "Run the following command to see the confusion matrix of your best model\n"
      ]
    },
    {
      "cell_type": "code",
      "execution_count": 27,
      "metadata": {
        "colab": {
          "base_uri": "https://localhost:8080/",
          "height": 351
        },
        "id": "XKcjHhBL3hTp",
        "outputId": "2a38cfb2-21b2-43ff-d02a-35df02f8759e"
      },
      "outputs": [
        {
          "name": "stderr",
          "output_type": "stream",
          "text": [
            "/Users/jbchang/Library/Python/3.9/lib/python/site-packages/sklearn/utils/deprecation.py:87: FutureWarning: Function plot_confusion_matrix is deprecated; Function `plot_confusion_matrix` is deprecated in 1.0 and will be removed in 1.2. Use one of the class methods: ConfusionMatrixDisplay.from_predictions or ConfusionMatrixDisplay.from_estimator.\n",
            "  warnings.warn(msg, category=FutureWarning)\n"
          ]
        },
        {
          "data": {
            "text/plain": [
              "<sklearn.metrics._plot.confusion_matrix.ConfusionMatrixDisplay at 0x280456940>"
            ]
          },
          "execution_count": 27,
          "metadata": {},
          "output_type": "execute_result"
        },
        {
          "data": {
            "image/png": "[encoded data removed]",
            "text/plain": [
              "<Figure size 640x480 with 2 Axes>"
            ]
          },
          "metadata": {},
          "output_type": "display_data"
        }
      ],
      "source": [
        "from sklearn.metrics import plot_confusion_matrix\n",
        "plot_confusion_matrix(MLP_Best_U.best_estimator_,X_test,Y_test)"
      ]
    },
    {
      "cell_type": "markdown",
      "metadata": {
        "id": "h79W1_Hx3hTp"
      },
      "source": [
        "##Step 10 Evaluate on the original Test Data!\n",
        "\n",
        "Now we use the best model that was trained on the upsampled data to predict the result for the original test data that we created in Step 7.\n",
        "\n",
        "We are doing this step \n",
        "1.  to compare our result to the original MLP with no upsampling \n",
        "2. and also compare it with Logistic Regression that we had before\n",
        "\n",
        "Run the following command to see the f1-score and accuracy on test data"
      ]
    },
    {
      "cell_type": "code",
      "execution_count": 28,
      "metadata": {
        "colab": {
          "base_uri": "https://localhost:8080/"
        },
        "id": "Nq5Ttf6Z3hTp",
        "outputId": "76d866aa-c938-4a13-8b8a-21a36691682c"
      },
      "outputs": [
        {
          "name": "stdout",
          "output_type": "stream",
          "text": [
            "              precision    recall  f1-score   support\n",
            "\n",
            "           1       1.00      0.88      0.94        25\n",
            "           2       0.93      0.82      0.87        17\n",
            "           3       0.58      1.00      0.74         7\n",
            "           5       1.00      1.00      1.00         4\n",
            "           6       1.00      1.00      1.00         4\n",
            "           7       1.00      1.00      1.00         8\n",
            "\n",
            "    accuracy                           0.91        65\n",
            "   macro avg       0.92      0.95      0.92        65\n",
            "weighted avg       0.94      0.91      0.91        65\n",
            "\n"
          ]
        }
      ],
      "source": [
        "from sklearn.metrics import classification_report\n",
        "print(classification_report(Y_test, MLP_Best_U.best_estimator_.predict(X_test)))"
      ]
    },
    {
      "cell_type": "markdown",
      "metadata": {
        "id": "cKnTtOU5A4Nu"
      },
      "source": [
        "**<font color=red>You made it - Impressive result?!</font>**"
      ]
    }
  ],
  "metadata": {
    "colab": {
      "provenance": [],
      "toc_visible": true
    },
    "kernelspec": {
      "display_name": "Python 3.9.6 64-bit",
      "language": "python",
      "name": "python3"
    },
    "language_info": {
      "codemirror_mode": {
        "name": "ipython",
        "version": 3
      },
      "file_extension": ".py",
      "mimetype": "text/x-python",
      "name": "python",
      "nbconvert_exporter": "python",
      "pygments_lexer": "ipython3",
      "version": "3.9.6"
    },
    "vscode": {
      "interpreter": {
        "hash": "31f2aee4e71d21fbe5cf8b01ff0e069b9275f58929596ceb00d14d90e3e16cd6"
      }
    }
  },
  "nbformat": 4,
  "nbformat_minor": 0
}
